{
  "nbformat": 4,
  "nbformat_minor": 0,
  "metadata": {
    "colab": {
      "provenance": []
    },
    "kernelspec": {
      "name": "python3",
      "display_name": "Python 3"
    },
    "language_info": {
      "name": "python"
    }
  },
  "cells": [
    {
      "cell_type": "code",
      "execution_count": 3,
      "metadata": {
        "id": "O4yQJnTgxppi"
      },
      "outputs": [],
      "source": [
        "from pyspark.sql.session import SparkSession\n",
        "spark = SparkSession.builder.getOrCreate()"
      ]
    },
    {
      "cell_type": "code",
      "source": [
        "from pyspark.sql import Row"
      ],
      "metadata": {
        "id": "Rp6Tkibm0RTr"
      },
      "execution_count": 5,
      "outputs": []
    },
    {
      "cell_type": "code",
      "source": [
        "import datetime\n",
        "users = [\n",
        "    {\n",
        "        \"id\": 1,\n",
        "        \"first_name\": \"Corrie\",\n",
        "        \"last_name\": \"Van den Oord\",\n",
        "        \"email\": \"cvandenoord0@etsy.com\",\n",
        "        \"phone_numbers\": Row(mobile=\"+1 234 567 8901\", home=\"+1 234 567 8911\"),\n",
        "        \"courses\": [1, 2],\n",
        "        \"is_customer\": True,\n",
        "        \"amount_paid\": 1000.55,\n",
        "        \"customer_from\": datetime.date(2021, 1, 15),\n",
        "        \"last_updated_ts\": datetime.datetime(2021, 2, 10, 1, 15, 0)\n",
        "    },\n",
        "    {\n",
        "        \"id\": 2,\n",
        "        \"first_name\": \"Nikolaus\",\n",
        "        \"last_name\": \"Brewitt\",\n",
        "        \"email\": \"nbrewitt1@dailymail.co.uk\",\n",
        "        \"phone_numbers\":  Row(mobile=\"+1 234 567 8923\", home=\"1 234 567 8934\"),\n",
        "        \"courses\": [3],\n",
        "        \"is_customer\": True,\n",
        "        \"amount_paid\": 900.0,\n",
        "        \"customer_from\": datetime.date(2021, 2, 14),\n",
        "        \"last_updated_ts\": datetime.datetime(2021, 2, 18, 3, 33, 0)\n",
        "    },\n",
        "    {\n",
        "        \"id\": 3,\n",
        "        \"first_name\": \"Orelie\",\n",
        "        \"last_name\": \"Penney\",\n",
        "        \"email\": \"openney2@vistaprint.com\",\n",
        "        \"phone_numbers\": Row(mobile=\"+1 714 512 9752\", home=\"+1 714 512 6601\"),\n",
        "        \"courses\": [2, 4],\n",
        "        \"is_customer\": True,\n",
        "        \"amount_paid\": 850.55,\n",
        "        \"customer_from\": datetime.date(2021, 1, 21),\n",
        "        \"last_updated_ts\": datetime.datetime(2021, 3, 15, 15, 16, 55)\n",
        "    },\n",
        "    {\n",
        "        \"id\": 4,\n",
        "        \"first_name\": \"Ashby\",\n",
        "        \"last_name\": \"Maddocks\",\n",
        "        \"email\": \"amaddocks3@home.pl\",\n",
        "        \"phone_numbers\": Row(mobile=None, home=None),\n",
        "        \"courses\": [],\n",
        "        \"is_customer\": False,\n",
        "        \"amount_paid\": None,\n",
        "        \"customer_from\": None,\n",
        "        \"last_updated_ts\": datetime.datetime(2021, 4, 10, 17, 45, 30)\n",
        "    },\n",
        "    {\n",
        "        \"id\": 5,\n",
        "        \"first_name\": \"Kurt\",\n",
        "        \"last_name\": \"Rome\",\n",
        "        \"email\": \"krome4@shutterfly.com\",\n",
        "        \"phone_numbers\": Row(mobile=\"+1 817 934 7142\", home=None),\n",
        "        \"courses\": [],\n",
        "        \"is_customer\": False,\n",
        "        \"amount_paid\": None,\n",
        "        \"customer_from\": None,\n",
        "        \"last_updated_ts\": datetime.datetime(2021, 4, 2, 0, 55, 28)\n",
        "    }\n",
        "]"
      ],
      "metadata": {
        "id": "WKUDHBKl0L7T"
      },
      "execution_count": 6,
      "outputs": []
    },
    {
      "cell_type": "code",
      "source": [
        "import pandas as pd"
      ],
      "metadata": {
        "id": "dDukpMLVzYgY"
      },
      "execution_count": 7,
      "outputs": []
    },
    {
      "cell_type": "code",
      "source": [
        "pd.DataFrame(users)"
      ],
      "metadata": {
        "colab": {
          "base_uri": "https://localhost:8080/",
          "height": 206
        },
        "id": "fDiBOH4i0eXT",
        "outputId": "2047b999-e3e8-4812-d4c3-1929f47fa809"
      },
      "execution_count": 8,
      "outputs": [
        {
          "output_type": "execute_result",
          "data": {
            "text/plain": [
              "   id first_name     last_name                      email  \\\n",
              "0   1     Corrie  Van den Oord      cvandenoord0@etsy.com   \n",
              "1   2   Nikolaus       Brewitt  nbrewitt1@dailymail.co.uk   \n",
              "2   3     Orelie        Penney    openney2@vistaprint.com   \n",
              "3   4      Ashby      Maddocks         amaddocks3@home.pl   \n",
              "4   5       Kurt          Rome      krome4@shutterfly.com   \n",
              "\n",
              "                        phone_numbers courses  is_customer  amount_paid  \\\n",
              "0  (+1 234 567 8901, +1 234 567 8911)  [1, 2]         True      1000.55   \n",
              "1   (+1 234 567 8923, 1 234 567 8934)     [3]         True       900.00   \n",
              "2  (+1 714 512 9752, +1 714 512 6601)  [2, 4]         True       850.55   \n",
              "3                        (None, None)      []        False          NaN   \n",
              "4             (+1 817 934 7142, None)      []        False          NaN   \n",
              "\n",
              "  customer_from     last_updated_ts  \n",
              "0    2021-01-15 2021-02-10 01:15:00  \n",
              "1    2021-02-14 2021-02-18 03:33:00  \n",
              "2    2021-01-21 2021-03-15 15:16:55  \n",
              "3          None 2021-04-10 17:45:30  \n",
              "4          None 2021-04-02 00:55:28  "
            ],
            "text/html": [
              "\n",
              "  <div id=\"df-73ad4361-3acc-4a84-bed0-8ec5b6514523\" class=\"colab-df-container\">\n",
              "    <div>\n",
              "<style scoped>\n",
              "    .dataframe tbody tr th:only-of-type {\n",
              "        vertical-align: middle;\n",
              "    }\n",
              "\n",
              "    .dataframe tbody tr th {\n",
              "        vertical-align: top;\n",
              "    }\n",
              "\n",
              "    .dataframe thead th {\n",
              "        text-align: right;\n",
              "    }\n",
              "</style>\n",
              "<table border=\"1\" class=\"dataframe\">\n",
              "  <thead>\n",
              "    <tr style=\"text-align: right;\">\n",
              "      <th></th>\n",
              "      <th>id</th>\n",
              "      <th>first_name</th>\n",
              "      <th>last_name</th>\n",
              "      <th>email</th>\n",
              "      <th>phone_numbers</th>\n",
              "      <th>courses</th>\n",
              "      <th>is_customer</th>\n",
              "      <th>amount_paid</th>\n",
              "      <th>customer_from</th>\n",
              "      <th>last_updated_ts</th>\n",
              "    </tr>\n",
              "  </thead>\n",
              "  <tbody>\n",
              "    <tr>\n",
              "      <th>0</th>\n",
              "      <td>1</td>\n",
              "      <td>Corrie</td>\n",
              "      <td>Van den Oord</td>\n",
              "      <td>cvandenoord0@etsy.com</td>\n",
              "      <td>(+1 234 567 8901, +1 234 567 8911)</td>\n",
              "      <td>[1, 2]</td>\n",
              "      <td>True</td>\n",
              "      <td>1000.55</td>\n",
              "      <td>2021-01-15</td>\n",
              "      <td>2021-02-10 01:15:00</td>\n",
              "    </tr>\n",
              "    <tr>\n",
              "      <th>1</th>\n",
              "      <td>2</td>\n",
              "      <td>Nikolaus</td>\n",
              "      <td>Brewitt</td>\n",
              "      <td>nbrewitt1@dailymail.co.uk</td>\n",
              "      <td>(+1 234 567 8923, 1 234 567 8934)</td>\n",
              "      <td>[3]</td>\n",
              "      <td>True</td>\n",
              "      <td>900.00</td>\n",
              "      <td>2021-02-14</td>\n",
              "      <td>2021-02-18 03:33:00</td>\n",
              "    </tr>\n",
              "    <tr>\n",
              "      <th>2</th>\n",
              "      <td>3</td>\n",
              "      <td>Orelie</td>\n",
              "      <td>Penney</td>\n",
              "      <td>openney2@vistaprint.com</td>\n",
              "      <td>(+1 714 512 9752, +1 714 512 6601)</td>\n",
              "      <td>[2, 4]</td>\n",
              "      <td>True</td>\n",
              "      <td>850.55</td>\n",
              "      <td>2021-01-21</td>\n",
              "      <td>2021-03-15 15:16:55</td>\n",
              "    </tr>\n",
              "    <tr>\n",
              "      <th>3</th>\n",
              "      <td>4</td>\n",
              "      <td>Ashby</td>\n",
              "      <td>Maddocks</td>\n",
              "      <td>amaddocks3@home.pl</td>\n",
              "      <td>(None, None)</td>\n",
              "      <td>[]</td>\n",
              "      <td>False</td>\n",
              "      <td>NaN</td>\n",
              "      <td>None</td>\n",
              "      <td>2021-04-10 17:45:30</td>\n",
              "    </tr>\n",
              "    <tr>\n",
              "      <th>4</th>\n",
              "      <td>5</td>\n",
              "      <td>Kurt</td>\n",
              "      <td>Rome</td>\n",
              "      <td>krome4@shutterfly.com</td>\n",
              "      <td>(+1 817 934 7142, None)</td>\n",
              "      <td>[]</td>\n",
              "      <td>False</td>\n",
              "      <td>NaN</td>\n",
              "      <td>None</td>\n",
              "      <td>2021-04-02 00:55:28</td>\n",
              "    </tr>\n",
              "  </tbody>\n",
              "</table>\n",
              "</div>\n",
              "    <div class=\"colab-df-buttons\">\n",
              "\n",
              "  <div class=\"colab-df-container\">\n",
              "    <button class=\"colab-df-convert\" onclick=\"convertToInteractive('df-73ad4361-3acc-4a84-bed0-8ec5b6514523')\"\n",
              "            title=\"Convert this dataframe to an interactive table.\"\n",
              "            style=\"display:none;\">\n",
              "\n",
              "  <svg xmlns=\"http://www.w3.org/2000/svg\" height=\"24px\" viewBox=\"0 -960 960 960\">\n",
              "    <path d=\"M120-120v-720h720v720H120Zm60-500h600v-160H180v160Zm220 220h160v-160H400v160Zm0 220h160v-160H400v160ZM180-400h160v-160H180v160Zm440 0h160v-160H620v160ZM180-180h160v-160H180v160Zm440 0h160v-160H620v160Z\"/>\n",
              "  </svg>\n",
              "    </button>\n",
              "\n",
              "  <style>\n",
              "    .colab-df-container {\n",
              "      display:flex;\n",
              "      gap: 12px;\n",
              "    }\n",
              "\n",
              "    .colab-df-convert {\n",
              "      background-color: #E8F0FE;\n",
              "      border: none;\n",
              "      border-radius: 50%;\n",
              "      cursor: pointer;\n",
              "      display: none;\n",
              "      fill: #1967D2;\n",
              "      height: 32px;\n",
              "      padding: 0 0 0 0;\n",
              "      width: 32px;\n",
              "    }\n",
              "\n",
              "    .colab-df-convert:hover {\n",
              "      background-color: #E2EBFA;\n",
              "      box-shadow: 0px 1px 2px rgba(60, 64, 67, 0.3), 0px 1px 3px 1px rgba(60, 64, 67, 0.15);\n",
              "      fill: #174EA6;\n",
              "    }\n",
              "\n",
              "    .colab-df-buttons div {\n",
              "      margin-bottom: 4px;\n",
              "    }\n",
              "\n",
              "    [theme=dark] .colab-df-convert {\n",
              "      background-color: #3B4455;\n",
              "      fill: #D2E3FC;\n",
              "    }\n",
              "\n",
              "    [theme=dark] .colab-df-convert:hover {\n",
              "      background-color: #434B5C;\n",
              "      box-shadow: 0px 1px 3px 1px rgba(0, 0, 0, 0.15);\n",
              "      filter: drop-shadow(0px 1px 2px rgba(0, 0, 0, 0.3));\n",
              "      fill: #FFFFFF;\n",
              "    }\n",
              "  </style>\n",
              "\n",
              "    <script>\n",
              "      const buttonEl =\n",
              "        document.querySelector('#df-73ad4361-3acc-4a84-bed0-8ec5b6514523 button.colab-df-convert');\n",
              "      buttonEl.style.display =\n",
              "        google.colab.kernel.accessAllowed ? 'block' : 'none';\n",
              "\n",
              "      async function convertToInteractive(key) {\n",
              "        const element = document.querySelector('#df-73ad4361-3acc-4a84-bed0-8ec5b6514523');\n",
              "        const dataTable =\n",
              "          await google.colab.kernel.invokeFunction('convertToInteractive',\n",
              "                                                    [key], {});\n",
              "        if (!dataTable) return;\n",
              "\n",
              "        const docLinkHtml = 'Like what you see? Visit the ' +\n",
              "          '<a target=\"_blank\" href=https://colab.research.google.com/notebooks/data_table.ipynb>data table notebook</a>'\n",
              "          + ' to learn more about interactive tables.';\n",
              "        element.innerHTML = '';\n",
              "        dataTable['output_type'] = 'display_data';\n",
              "        await google.colab.output.renderOutput(dataTable, element);\n",
              "        const docLink = document.createElement('div');\n",
              "        docLink.innerHTML = docLinkHtml;\n",
              "        element.appendChild(docLink);\n",
              "      }\n",
              "    </script>\n",
              "  </div>\n",
              "\n",
              "\n",
              "<div id=\"df-e77e05d9-a3de-4fd8-90e8-645e8800ab57\">\n",
              "  <button class=\"colab-df-quickchart\" onclick=\"quickchart('df-e77e05d9-a3de-4fd8-90e8-645e8800ab57')\"\n",
              "            title=\"Suggest charts\"\n",
              "            style=\"display:none;\">\n",
              "\n",
              "<svg xmlns=\"http://www.w3.org/2000/svg\" height=\"24px\"viewBox=\"0 0 24 24\"\n",
              "     width=\"24px\">\n",
              "    <g>\n",
              "        <path d=\"M19 3H5c-1.1 0-2 .9-2 2v14c0 1.1.9 2 2 2h14c1.1 0 2-.9 2-2V5c0-1.1-.9-2-2-2zM9 17H7v-7h2v7zm4 0h-2V7h2v10zm4 0h-2v-4h2v4z\"/>\n",
              "    </g>\n",
              "</svg>\n",
              "  </button>\n",
              "\n",
              "<style>\n",
              "  .colab-df-quickchart {\n",
              "      --bg-color: #E8F0FE;\n",
              "      --fill-color: #1967D2;\n",
              "      --hover-bg-color: #E2EBFA;\n",
              "      --hover-fill-color: #174EA6;\n",
              "      --disabled-fill-color: #AAA;\n",
              "      --disabled-bg-color: #DDD;\n",
              "  }\n",
              "\n",
              "  [theme=dark] .colab-df-quickchart {\n",
              "      --bg-color: #3B4455;\n",
              "      --fill-color: #D2E3FC;\n",
              "      --hover-bg-color: #434B5C;\n",
              "      --hover-fill-color: #FFFFFF;\n",
              "      --disabled-bg-color: #3B4455;\n",
              "      --disabled-fill-color: #666;\n",
              "  }\n",
              "\n",
              "  .colab-df-quickchart {\n",
              "    background-color: var(--bg-color);\n",
              "    border: none;\n",
              "    border-radius: 50%;\n",
              "    cursor: pointer;\n",
              "    display: none;\n",
              "    fill: var(--fill-color);\n",
              "    height: 32px;\n",
              "    padding: 0;\n",
              "    width: 32px;\n",
              "  }\n",
              "\n",
              "  .colab-df-quickchart:hover {\n",
              "    background-color: var(--hover-bg-color);\n",
              "    box-shadow: 0 1px 2px rgba(60, 64, 67, 0.3), 0 1px 3px 1px rgba(60, 64, 67, 0.15);\n",
              "    fill: var(--button-hover-fill-color);\n",
              "  }\n",
              "\n",
              "  .colab-df-quickchart-complete:disabled,\n",
              "  .colab-df-quickchart-complete:disabled:hover {\n",
              "    background-color: var(--disabled-bg-color);\n",
              "    fill: var(--disabled-fill-color);\n",
              "    box-shadow: none;\n",
              "  }\n",
              "\n",
              "  .colab-df-spinner {\n",
              "    border: 2px solid var(--fill-color);\n",
              "    border-color: transparent;\n",
              "    border-bottom-color: var(--fill-color);\n",
              "    animation:\n",
              "      spin 1s steps(1) infinite;\n",
              "  }\n",
              "\n",
              "  @keyframes spin {\n",
              "    0% {\n",
              "      border-color: transparent;\n",
              "      border-bottom-color: var(--fill-color);\n",
              "      border-left-color: var(--fill-color);\n",
              "    }\n",
              "    20% {\n",
              "      border-color: transparent;\n",
              "      border-left-color: var(--fill-color);\n",
              "      border-top-color: var(--fill-color);\n",
              "    }\n",
              "    30% {\n",
              "      border-color: transparent;\n",
              "      border-left-color: var(--fill-color);\n",
              "      border-top-color: var(--fill-color);\n",
              "      border-right-color: var(--fill-color);\n",
              "    }\n",
              "    40% {\n",
              "      border-color: transparent;\n",
              "      border-right-color: var(--fill-color);\n",
              "      border-top-color: var(--fill-color);\n",
              "    }\n",
              "    60% {\n",
              "      border-color: transparent;\n",
              "      border-right-color: var(--fill-color);\n",
              "    }\n",
              "    80% {\n",
              "      border-color: transparent;\n",
              "      border-right-color: var(--fill-color);\n",
              "      border-bottom-color: var(--fill-color);\n",
              "    }\n",
              "    90% {\n",
              "      border-color: transparent;\n",
              "      border-bottom-color: var(--fill-color);\n",
              "    }\n",
              "  }\n",
              "</style>\n",
              "\n",
              "  <script>\n",
              "    async function quickchart(key) {\n",
              "      const quickchartButtonEl =\n",
              "        document.querySelector('#' + key + ' button');\n",
              "      quickchartButtonEl.disabled = true;  // To prevent multiple clicks.\n",
              "      quickchartButtonEl.classList.add('colab-df-spinner');\n",
              "      try {\n",
              "        const charts = await google.colab.kernel.invokeFunction(\n",
              "            'suggestCharts', [key], {});\n",
              "      } catch (error) {\n",
              "        console.error('Error during call to suggestCharts:', error);\n",
              "      }\n",
              "      quickchartButtonEl.classList.remove('colab-df-spinner');\n",
              "      quickchartButtonEl.classList.add('colab-df-quickchart-complete');\n",
              "    }\n",
              "    (() => {\n",
              "      let quickchartButtonEl =\n",
              "        document.querySelector('#df-e77e05d9-a3de-4fd8-90e8-645e8800ab57 button');\n",
              "      quickchartButtonEl.style.display =\n",
              "        google.colab.kernel.accessAllowed ? 'block' : 'none';\n",
              "    })();\n",
              "  </script>\n",
              "</div>\n",
              "\n",
              "    </div>\n",
              "  </div>\n"
            ],
            "application/vnd.google.colaboratory.intrinsic+json": {
              "type": "dataframe",
              "summary": "{\n  \"name\": \"pd\",\n  \"rows\": 5,\n  \"fields\": [\n    {\n      \"column\": \"id\",\n      \"properties\": {\n        \"dtype\": \"number\",\n        \"std\": 1,\n        \"min\": 1,\n        \"max\": 5,\n        \"num_unique_values\": 5,\n        \"samples\": [\n          2,\n          5,\n          3\n        ],\n        \"semantic_type\": \"\",\n        \"description\": \"\"\n      }\n    },\n    {\n      \"column\": \"first_name\",\n      \"properties\": {\n        \"dtype\": \"string\",\n        \"num_unique_values\": 5,\n        \"samples\": [\n          \"Nikolaus\",\n          \"Kurt\",\n          \"Orelie\"\n        ],\n        \"semantic_type\": \"\",\n        \"description\": \"\"\n      }\n    },\n    {\n      \"column\": \"last_name\",\n      \"properties\": {\n        \"dtype\": \"string\",\n        \"num_unique_values\": 5,\n        \"samples\": [\n          \"Brewitt\",\n          \"Rome\",\n          \"Penney\"\n        ],\n        \"semantic_type\": \"\",\n        \"description\": \"\"\n      }\n    },\n    {\n      \"column\": \"email\",\n      \"properties\": {\n        \"dtype\": \"string\",\n        \"num_unique_values\": 5,\n        \"samples\": [\n          \"nbrewitt1@dailymail.co.uk\",\n          \"krome4@shutterfly.com\",\n          \"openney2@vistaprint.com\"\n        ],\n        \"semantic_type\": \"\",\n        \"description\": \"\"\n      }\n    },\n    {\n      \"column\": \"phone_numbers\",\n      \"properties\": {\n        \"dtype\": \"string\",\n        \"num_unique_values\": 5,\n        \"samples\": [\n          [\n            \"+1 234 567 8923\",\n            \"1 234 567 8934\"\n          ],\n          [\n            \"+1 817 934 7142\",\n            null\n          ],\n          [\n            \"+1 714 512 9752\",\n            \"+1 714 512 6601\"\n          ]\n        ],\n        \"semantic_type\": \"\",\n        \"description\": \"\"\n      }\n    },\n    {\n      \"column\": \"courses\",\n      \"properties\": {\n        \"dtype\": \"object\",\n        \"semantic_type\": \"\",\n        \"description\": \"\"\n      }\n    },\n    {\n      \"column\": \"is_customer\",\n      \"properties\": {\n        \"dtype\": \"boolean\",\n        \"num_unique_values\": 2,\n        \"samples\": [\n          false,\n          true\n        ],\n        \"semantic_type\": \"\",\n        \"description\": \"\"\n      }\n    },\n    {\n      \"column\": \"amount_paid\",\n      \"properties\": {\n        \"dtype\": \"number\",\n        \"std\": 76.43690753381728,\n        \"min\": 850.55,\n        \"max\": 1000.55,\n        \"num_unique_values\": 3,\n        \"samples\": [\n          1000.55,\n          900.0\n        ],\n        \"semantic_type\": \"\",\n        \"description\": \"\"\n      }\n    },\n    {\n      \"column\": \"customer_from\",\n      \"properties\": {\n        \"dtype\": \"date\",\n        \"min\": \"2021-01-15 00:00:00\",\n        \"max\": \"2021-02-14 00:00:00\",\n        \"num_unique_values\": 3,\n        \"samples\": [\n          \"2021-01-15\",\n          \"2021-02-14\"\n        ],\n        \"semantic_type\": \"\",\n        \"description\": \"\"\n      }\n    },\n    {\n      \"column\": \"last_updated_ts\",\n      \"properties\": {\n        \"dtype\": \"date\",\n        \"min\": \"2021-02-10 01:15:00\",\n        \"max\": \"2021-04-10 17:45:30\",\n        \"num_unique_values\": 5,\n        \"samples\": [\n          \"2021-02-18 03:33:00\",\n          \"2021-04-02 00:55:28\"\n        ],\n        \"semantic_type\": \"\",\n        \"description\": \"\"\n      }\n    }\n  ]\n}"
            }
          },
          "metadata": {},
          "execution_count": 8
        }
      ]
    },
    {
      "cell_type": "code",
      "source": [
        "users_df = spark.createDataFrame(pd.DataFrame(users))"
      ],
      "metadata": {
        "id": "udq5SxiK0hKG"
      },
      "execution_count": 9,
      "outputs": []
    },
    {
      "cell_type": "code",
      "source": [
        "users_df.show(5)"
      ],
      "metadata": {
        "colab": {
          "base_uri": "https://localhost:8080/"
        },
        "id": "O6BkFvmS0sDw",
        "outputId": "91661ecc-3430-42cb-a339-8fa96fc59220"
      },
      "execution_count": 10,
      "outputs": [
        {
          "output_type": "stream",
          "name": "stdout",
          "text": [
            "+---+----------+------------+--------------------+--------------------+-------+-----------+-----------+-------------+-------------------+\n",
            "| id|first_name|   last_name|               email|       phone_numbers|courses|is_customer|amount_paid|customer_from|    last_updated_ts|\n",
            "+---+----------+------------+--------------------+--------------------+-------+-----------+-----------+-------------+-------------------+\n",
            "|  1|    Corrie|Van den Oord|cvandenoord0@etsy...|{+1 234 567 8901,...| [1, 2]|       true|    1000.55|   2021-01-15|2021-02-10 01:15:00|\n",
            "|  2|  Nikolaus|     Brewitt|nbrewitt1@dailyma...|{+1 234 567 8923,...|    [3]|       true|      900.0|   2021-02-14|2021-02-18 03:33:00|\n",
            "|  3|    Orelie|      Penney|openney2@vistapri...|{+1 714 512 9752,...| [2, 4]|       true|     850.55|   2021-01-21|2021-03-15 15:16:55|\n",
            "|  4|     Ashby|    Maddocks|  amaddocks3@home.pl|        {NULL, NULL}|     []|      false|        NaN|         NULL|2021-04-10 17:45:30|\n",
            "|  5|      Kurt|        Rome|krome4@shutterfly...|{+1 817 934 7142,...|     []|      false|        NaN|         NULL|2021-04-02 00:55:28|\n",
            "+---+----------+------------+--------------------+--------------------+-------+-----------+-----------+-------------+-------------------+\n",
            "\n"
          ]
        }
      ]
    },
    {
      "cell_type": "code",
      "source": [
        "users_df.show(5,truncate=False)"
      ],
      "metadata": {
        "colab": {
          "base_uri": "https://localhost:8080/"
        },
        "id": "6vsj1fV90yBs",
        "outputId": "24ae855a-d5e0-4530-993a-05f4418ea00d"
      },
      "execution_count": 11,
      "outputs": [
        {
          "output_type": "stream",
          "name": "stdout",
          "text": [
            "+---+----------+------------+-------------------------+----------------------------------+-------+-----------+-----------+-------------+-------------------+\n",
            "|id |first_name|last_name   |email                    |phone_numbers                     |courses|is_customer|amount_paid|customer_from|last_updated_ts    |\n",
            "+---+----------+------------+-------------------------+----------------------------------+-------+-----------+-----------+-------------+-------------------+\n",
            "|1  |Corrie    |Van den Oord|cvandenoord0@etsy.com    |{+1 234 567 8901, +1 234 567 8911}|[1, 2] |true       |1000.55    |2021-01-15   |2021-02-10 01:15:00|\n",
            "|2  |Nikolaus  |Brewitt     |nbrewitt1@dailymail.co.uk|{+1 234 567 8923, 1 234 567 8934} |[3]    |true       |900.0      |2021-02-14   |2021-02-18 03:33:00|\n",
            "|3  |Orelie    |Penney      |openney2@vistaprint.com  |{+1 714 512 9752, +1 714 512 6601}|[2, 4] |true       |850.55     |2021-01-21   |2021-03-15 15:16:55|\n",
            "|4  |Ashby     |Maddocks    |amaddocks3@home.pl       |{NULL, NULL}                      |[]     |false      |NaN        |NULL         |2021-04-10 17:45:30|\n",
            "|5  |Kurt      |Rome        |krome4@shutterfly.com    |{+1 817 934 7142, NULL}           |[]     |false      |NaN        |NULL         |2021-04-02 00:55:28|\n",
            "+---+----------+------------+-------------------------+----------------------------------+-------+-----------+-----------+-------------+-------------------+\n",
            "\n"
          ]
        }
      ]
    },
    {
      "cell_type": "code",
      "source": [
        "users_df.printSchema()"
      ],
      "metadata": {
        "colab": {
          "base_uri": "https://localhost:8080/"
        },
        "id": "922fLpS705dF",
        "outputId": "d0050f2a-9093-4f86-c6bb-f9d4c5c0a2bd"
      },
      "execution_count": 12,
      "outputs": [
        {
          "output_type": "stream",
          "name": "stdout",
          "text": [
            "root\n",
            " |-- id: long (nullable = true)\n",
            " |-- first_name: string (nullable = true)\n",
            " |-- last_name: string (nullable = true)\n",
            " |-- email: string (nullable = true)\n",
            " |-- phone_numbers: struct (nullable = true)\n",
            " |    |-- mobile: string (nullable = true)\n",
            " |    |-- home: string (nullable = true)\n",
            " |-- courses: array (nullable = true)\n",
            " |    |-- element: long (containsNull = true)\n",
            " |-- is_customer: boolean (nullable = true)\n",
            " |-- amount_paid: double (nullable = true)\n",
            " |-- customer_from: date (nullable = true)\n",
            " |-- last_updated_ts: timestamp (nullable = true)\n",
            "\n"
          ]
        }
      ]
    },
    {
      "cell_type": "code",
      "source": [
        "users_df.filter('amount_paid=900').show()"
      ],
      "metadata": {
        "colab": {
          "base_uri": "https://localhost:8080/"
        },
        "id": "x7O59fpA5wud",
        "outputId": "8e223927-489e-4384-857a-893184f976ce"
      },
      "execution_count": 13,
      "outputs": [
        {
          "output_type": "stream",
          "name": "stdout",
          "text": [
            "+---+----------+---------+--------------------+--------------------+-------+-----------+-----------+-------------+-------------------+\n",
            "| id|first_name|last_name|               email|       phone_numbers|courses|is_customer|amount_paid|customer_from|    last_updated_ts|\n",
            "+---+----------+---------+--------------------+--------------------+-------+-----------+-----------+-------------+-------------------+\n",
            "|  2|  Nikolaus|  Brewitt|nbrewitt1@dailyma...|{+1 234 567 8923,...|    [3]|       true|      900.0|   2021-02-14|2021-02-18 03:33:00|\n",
            "+---+----------+---------+--------------------+--------------------+-------+-----------+-----------+-------------+-------------------+\n",
            "\n"
          ]
        }
      ]
    },
    {
      "cell_type": "code",
      "source": [
        "users_df.filter(users_df['amount_paid']==900).show()"
      ],
      "metadata": {
        "colab": {
          "base_uri": "https://localhost:8080/"
        },
        "id": "PgmSuhAkmjho",
        "outputId": "32b538bb-b1cb-40b5-d9ac-a110464795ae"
      },
      "execution_count": 14,
      "outputs": [
        {
          "output_type": "stream",
          "name": "stdout",
          "text": [
            "+---+----------+---------+--------------------+--------------------+-------+-----------+-----------+-------------+-------------------+\n",
            "| id|first_name|last_name|               email|       phone_numbers|courses|is_customer|amount_paid|customer_from|    last_updated_ts|\n",
            "+---+----------+---------+--------------------+--------------------+-------+-----------+-----------+-------------+-------------------+\n",
            "|  2|  Nikolaus|  Brewitt|nbrewitt1@dailyma...|{+1 234 567 8923,...|    [3]|       true|      900.0|   2021-02-14|2021-02-18 03:33:00|\n",
            "+---+----------+---------+--------------------+--------------------+-------+-----------+-----------+-------------+-------------------+\n",
            "\n"
          ]
        }
      ]
    },
    {
      "cell_type": "code",
      "source": [
        "users_df.filter(users_df['amount_paid']>900).show()"
      ],
      "metadata": {
        "colab": {
          "base_uri": "https://localhost:8080/"
        },
        "id": "yiziWPqJ7CCs",
        "outputId": "d3cbd79a-c973-400a-cbba-66f9f833ef15"
      },
      "execution_count": 15,
      "outputs": [
        {
          "output_type": "stream",
          "name": "stdout",
          "text": [
            "+---+----------+------------+--------------------+--------------------+-------+-----------+-----------+-------------+-------------------+\n",
            "| id|first_name|   last_name|               email|       phone_numbers|courses|is_customer|amount_paid|customer_from|    last_updated_ts|\n",
            "+---+----------+------------+--------------------+--------------------+-------+-----------+-----------+-------------+-------------------+\n",
            "|  1|    Corrie|Van den Oord|cvandenoord0@etsy...|{+1 234 567 8901,...| [1, 2]|       true|    1000.55|   2021-01-15|2021-02-10 01:15:00|\n",
            "|  4|     Ashby|    Maddocks|  amaddocks3@home.pl|        {NULL, NULL}|     []|      false|        NaN|         NULL|2021-04-10 17:45:30|\n",
            "|  5|      Kurt|        Rome|krome4@shutterfly...|{+1 817 934 7142,...|     []|      false|        NaN|         NULL|2021-04-02 00:55:28|\n",
            "+---+----------+------------+--------------------+--------------------+-------+-----------+-----------+-------------+-------------------+\n",
            "\n"
          ]
        }
      ]
    },
    {
      "cell_type": "code",
      "source": [
        "from pyspark.sql.functions import col"
      ],
      "metadata": {
        "id": "TSb_yJRW7lNT"
      },
      "execution_count": 16,
      "outputs": []
    },
    {
      "cell_type": "code",
      "source": [
        "type(col('amount_paid')),type('amount_paid')"
      ],
      "metadata": {
        "colab": {
          "base_uri": "https://localhost:8080/"
        },
        "id": "yhjKTcR7mQ0O",
        "outputId": "d4947c93-7025-4349-de62-c2902b9cfca6"
      },
      "execution_count": 17,
      "outputs": [
        {
          "output_type": "execute_result",
          "data": {
            "text/plain": [
              "(pyspark.sql.column.Column, str)"
            ]
          },
          "metadata": {},
          "execution_count": 17
        }
      ]
    },
    {
      "cell_type": "code",
      "source": [
        "users_df.filter(\n",
        "    (users_df['amount_paid']>900) &\n",
        "    (col('amount_paid').isNotNull())\n",
        "    ).show()"
      ],
      "metadata": {
        "colab": {
          "base_uri": "https://localhost:8080/"
        },
        "id": "_wexk60M7NHO",
        "outputId": "fd5c70b3-c4ca-4be4-de7f-567a23db7680"
      },
      "execution_count": 18,
      "outputs": [
        {
          "output_type": "stream",
          "name": "stdout",
          "text": [
            "+---+----------+------------+--------------------+--------------------+-------+-----------+-----------+-------------+-------------------+\n",
            "| id|first_name|   last_name|               email|       phone_numbers|courses|is_customer|amount_paid|customer_from|    last_updated_ts|\n",
            "+---+----------+------------+--------------------+--------------------+-------+-----------+-----------+-------------+-------------------+\n",
            "|  1|    Corrie|Van den Oord|cvandenoord0@etsy...|{+1 234 567 8901,...| [1, 2]|       true|    1000.55|   2021-01-15|2021-02-10 01:15:00|\n",
            "|  4|     Ashby|    Maddocks|  amaddocks3@home.pl|        {NULL, NULL}|     []|      false|        NaN|         NULL|2021-04-10 17:45:30|\n",
            "|  5|      Kurt|        Rome|krome4@shutterfly...|{+1 817 934 7142,...|     []|      false|        NaN|         NULL|2021-04-02 00:55:28|\n",
            "+---+----------+------------+--------------------+--------------------+-------+-----------+-----------+-------------+-------------------+\n",
            "\n"
          ]
        }
      ]
    },
    {
      "cell_type": "code",
      "source": [
        "from pyspark.sql.functions import isnan"
      ],
      "metadata": {
        "id": "seeurgt282q-"
      },
      "execution_count": 19,
      "outputs": []
    },
    {
      "cell_type": "code",
      "source": [
        "users_df.filter(\n",
        "    (users_df['amount_paid']>900) &\n",
        "    (~ isnan(col('amount_paid')))\n",
        "    ).show()"
      ],
      "metadata": {
        "colab": {
          "base_uri": "https://localhost:8080/"
        },
        "id": "KKe4Mkt37uwi",
        "outputId": "4cad5988-6b62-4143-cd83-8c52e9da18da"
      },
      "execution_count": 20,
      "outputs": [
        {
          "output_type": "stream",
          "name": "stdout",
          "text": [
            "+---+----------+------------+--------------------+--------------------+-------+-----------+-----------+-------------+-------------------+\n",
            "| id|first_name|   last_name|               email|       phone_numbers|courses|is_customer|amount_paid|customer_from|    last_updated_ts|\n",
            "+---+----------+------------+--------------------+--------------------+-------+-----------+-----------+-------------+-------------------+\n",
            "|  1|    Corrie|Van den Oord|cvandenoord0@etsy...|{+1 234 567 8901,...| [1, 2]|       true|    1000.55|   2021-01-15|2021-02-10 01:15:00|\n",
            "+---+----------+------------+--------------------+--------------------+-------+-----------+-----------+-------------+-------------------+\n",
            "\n"
          ]
        }
      ]
    },
    {
      "cell_type": "code",
      "source": [
        "users_df.select('first_name','last_name','amount_paid').show()"
      ],
      "metadata": {
        "colab": {
          "base_uri": "https://localhost:8080/"
        },
        "id": "Vk7mCHMg8bF-",
        "outputId": "8e5eb19f-fb48-4f7d-dded-e91c9c9fb57f"
      },
      "execution_count": 21,
      "outputs": [
        {
          "output_type": "stream",
          "name": "stdout",
          "text": [
            "+----------+------------+-----------+\n",
            "|first_name|   last_name|amount_paid|\n",
            "+----------+------------+-----------+\n",
            "|    Corrie|Van den Oord|    1000.55|\n",
            "|  Nikolaus|     Brewitt|      900.0|\n",
            "|    Orelie|      Penney|     850.55|\n",
            "|     Ashby|    Maddocks|        NaN|\n",
            "|      Kurt|        Rome|        NaN|\n",
            "+----------+------------+-----------+\n",
            "\n"
          ]
        }
      ]
    },
    {
      "cell_type": "code",
      "source": [
        "users_df.fillna(0).show()"
      ],
      "metadata": {
        "colab": {
          "base_uri": "https://localhost:8080/"
        },
        "id": "3Y9nXwx_9sFi",
        "outputId": "edbbb51d-e29e-48b4-9798-b007562ef98a"
      },
      "execution_count": 22,
      "outputs": [
        {
          "output_type": "stream",
          "name": "stdout",
          "text": [
            "+---+----------+------------+--------------------+--------------------+-------+-----------+-----------+-------------+-------------------+\n",
            "| id|first_name|   last_name|               email|       phone_numbers|courses|is_customer|amount_paid|customer_from|    last_updated_ts|\n",
            "+---+----------+------------+--------------------+--------------------+-------+-----------+-----------+-------------+-------------------+\n",
            "|  1|    Corrie|Van den Oord|cvandenoord0@etsy...|{+1 234 567 8901,...| [1, 2]|       true|    1000.55|   2021-01-15|2021-02-10 01:15:00|\n",
            "|  2|  Nikolaus|     Brewitt|nbrewitt1@dailyma...|{+1 234 567 8923,...|    [3]|       true|      900.0|   2021-02-14|2021-02-18 03:33:00|\n",
            "|  3|    Orelie|      Penney|openney2@vistapri...|{+1 714 512 9752,...| [2, 4]|       true|     850.55|   2021-01-21|2021-03-15 15:16:55|\n",
            "|  4|     Ashby|    Maddocks|  amaddocks3@home.pl|        {NULL, NULL}|     []|      false|        0.0|         NULL|2021-04-10 17:45:30|\n",
            "|  5|      Kurt|        Rome|krome4@shutterfly...|{+1 817 934 7142,...|     []|      false|        0.0|         NULL|2021-04-02 00:55:28|\n",
            "+---+----------+------------+--------------------+--------------------+-------+-----------+-----------+-------------+-------------------+\n",
            "\n"
          ]
        }
      ]
    },
    {
      "cell_type": "code",
      "source": [
        "users_df.show()"
      ],
      "metadata": {
        "colab": {
          "base_uri": "https://localhost:8080/"
        },
        "id": "cgXLYJyg94JI",
        "outputId": "f5f66f28-21b3-4271-d959-6eef833aafb5"
      },
      "execution_count": 23,
      "outputs": [
        {
          "output_type": "stream",
          "name": "stdout",
          "text": [
            "+---+----------+------------+--------------------+--------------------+-------+-----------+-----------+-------------+-------------------+\n",
            "| id|first_name|   last_name|               email|       phone_numbers|courses|is_customer|amount_paid|customer_from|    last_updated_ts|\n",
            "+---+----------+------------+--------------------+--------------------+-------+-----------+-----------+-------------+-------------------+\n",
            "|  1|    Corrie|Van den Oord|cvandenoord0@etsy...|{+1 234 567 8901,...| [1, 2]|       true|    1000.55|   2021-01-15|2021-02-10 01:15:00|\n",
            "|  2|  Nikolaus|     Brewitt|nbrewitt1@dailyma...|{+1 234 567 8923,...|    [3]|       true|      900.0|   2021-02-14|2021-02-18 03:33:00|\n",
            "|  3|    Orelie|      Penney|openney2@vistapri...|{+1 714 512 9752,...| [2, 4]|       true|     850.55|   2021-01-21|2021-03-15 15:16:55|\n",
            "|  4|     Ashby|    Maddocks|  amaddocks3@home.pl|        {NULL, NULL}|     []|      false|        NaN|         NULL|2021-04-10 17:45:30|\n",
            "|  5|      Kurt|        Rome|krome4@shutterfly...|{+1 817 934 7142,...|     []|      false|        NaN|         NULL|2021-04-02 00:55:28|\n",
            "+---+----------+------------+--------------------+--------------------+-------+-----------+-----------+-------------+-------------------+\n",
            "\n"
          ]
        }
      ]
    },
    {
      "cell_type": "code",
      "source": [
        "users_df_new=users_df.fillna(0,subset=['amount_paid'])"
      ],
      "metadata": {
        "id": "5rnJ6bFA-ST9"
      },
      "execution_count": 24,
      "outputs": []
    },
    {
      "cell_type": "code",
      "source": [
        "users_df_new.show()"
      ],
      "metadata": {
        "colab": {
          "base_uri": "https://localhost:8080/"
        },
        "id": "4-WfZ--B-xrD",
        "outputId": "762faea8-e747-4897-9590-860419e45e83"
      },
      "execution_count": 25,
      "outputs": [
        {
          "output_type": "stream",
          "name": "stdout",
          "text": [
            "+---+----------+------------+--------------------+--------------------+-------+-----------+-----------+-------------+-------------------+\n",
            "| id|first_name|   last_name|               email|       phone_numbers|courses|is_customer|amount_paid|customer_from|    last_updated_ts|\n",
            "+---+----------+------------+--------------------+--------------------+-------+-----------+-----------+-------------+-------------------+\n",
            "|  1|    Corrie|Van den Oord|cvandenoord0@etsy...|{+1 234 567 8901,...| [1, 2]|       true|    1000.55|   2021-01-15|2021-02-10 01:15:00|\n",
            "|  2|  Nikolaus|     Brewitt|nbrewitt1@dailyma...|{+1 234 567 8923,...|    [3]|       true|      900.0|   2021-02-14|2021-02-18 03:33:00|\n",
            "|  3|    Orelie|      Penney|openney2@vistapri...|{+1 714 512 9752,...| [2, 4]|       true|     850.55|   2021-01-21|2021-03-15 15:16:55|\n",
            "|  4|     Ashby|    Maddocks|  amaddocks3@home.pl|        {NULL, NULL}|     []|      false|        0.0|         NULL|2021-04-10 17:45:30|\n",
            "|  5|      Kurt|        Rome|krome4@shutterfly...|{+1 817 934 7142,...|     []|      false|        0.0|         NULL|2021-04-02 00:55:28|\n",
            "+---+----------+------------+--------------------+--------------------+-------+-----------+-----------+-------------+-------------------+\n",
            "\n"
          ]
        }
      ]
    },
    {
      "cell_type": "markdown",
      "source": [
        "**Overview of Narrow and Wide Transformations**\n",
        "\n",
        "Let us get an overview of Narrow and Wide Transformations.\n",
        "* Here are the functions related to narrow transformations. Narrow transformations doesn't result in shuffling. These are also known as row level transformations.\n",
        "  * `df.select`\n",
        "  * `df.filter`\n",
        "  * `df.withColumn`\n",
        "  * `df.withColumnRenamed`\n",
        "  * `df.drop`\n",
        "* Here are the functions related to wide transformations.\n",
        "  * `df.distinct`\n",
        "  * `df.union` or any set operation\n",
        "  * `df.join` or any join operation\n",
        "  * `df.groupBy`\n",
        "  * `df.sort` or `df.orderBy`\n",
        "* Any function that result in shuffling is wide transformation. For all the wide transformations, we have to deal with group of records based on a key."
      ],
      "metadata": {
        "id": "QoWAey7HAFMD"
      }
    },
    {
      "cell_type": "code",
      "source": [
        "users_df.select('*').show()"
      ],
      "metadata": {
        "colab": {
          "base_uri": "https://localhost:8080/"
        },
        "id": "-N0IZ9Eu_k1U",
        "outputId": "e20f9923-3acc-43c8-9711-5709b3b109a8"
      },
      "execution_count": 26,
      "outputs": [
        {
          "output_type": "stream",
          "name": "stdout",
          "text": [
            "+---+----------+------------+--------------------+--------------------+-------+-----------+-----------+-------------+-------------------+\n",
            "| id|first_name|   last_name|               email|       phone_numbers|courses|is_customer|amount_paid|customer_from|    last_updated_ts|\n",
            "+---+----------+------------+--------------------+--------------------+-------+-----------+-----------+-------------+-------------------+\n",
            "|  1|    Corrie|Van den Oord|cvandenoord0@etsy...|{+1 234 567 8901,...| [1, 2]|       true|    1000.55|   2021-01-15|2021-02-10 01:15:00|\n",
            "|  2|  Nikolaus|     Brewitt|nbrewitt1@dailyma...|{+1 234 567 8923,...|    [3]|       true|      900.0|   2021-02-14|2021-02-18 03:33:00|\n",
            "|  3|    Orelie|      Penney|openney2@vistapri...|{+1 714 512 9752,...| [2, 4]|       true|     850.55|   2021-01-21|2021-03-15 15:16:55|\n",
            "|  4|     Ashby|    Maddocks|  amaddocks3@home.pl|        {NULL, NULL}|     []|      false|        NaN|         NULL|2021-04-10 17:45:30|\n",
            "|  5|      Kurt|        Rome|krome4@shutterfly...|{+1 817 934 7142,...|     []|      false|        NaN|         NULL|2021-04-02 00:55:28|\n",
            "+---+----------+------------+--------------------+--------------------+-------+-----------+-----------+-------------+-------------------+\n",
            "\n"
          ]
        }
      ]
    },
    {
      "cell_type": "code",
      "source": [
        "users_df.select('id', 'first_name', 'last_name').show()"
      ],
      "metadata": {
        "colab": {
          "base_uri": "https://localhost:8080/"
        },
        "id": "lG05uHXDAJxG",
        "outputId": "b1601d63-088a-4fdc-edd0-be4d0384c5ed"
      },
      "execution_count": 27,
      "outputs": [
        {
          "output_type": "stream",
          "name": "stdout",
          "text": [
            "+---+----------+------------+\n",
            "| id|first_name|   last_name|\n",
            "+---+----------+------------+\n",
            "|  1|    Corrie|Van den Oord|\n",
            "|  2|  Nikolaus|     Brewitt|\n",
            "|  3|    Orelie|      Penney|\n",
            "|  4|     Ashby|    Maddocks|\n",
            "|  5|      Kurt|        Rome|\n",
            "+---+----------+------------+\n",
            "\n"
          ]
        }
      ]
    },
    {
      "cell_type": "code",
      "source": [
        "users_df.select(['id', 'first_name', 'last_name']).show()"
      ],
      "metadata": {
        "colab": {
          "base_uri": "https://localhost:8080/"
        },
        "id": "BlV4FB2aALu2",
        "outputId": "d9775191-4528-415c-e86e-7a4f00bf995e"
      },
      "execution_count": 28,
      "outputs": [
        {
          "output_type": "stream",
          "name": "stdout",
          "text": [
            "+---+----------+------------+\n",
            "| id|first_name|   last_name|\n",
            "+---+----------+------------+\n",
            "|  1|    Corrie|Van den Oord|\n",
            "|  2|  Nikolaus|     Brewitt|\n",
            "|  3|    Orelie|      Penney|\n",
            "|  4|     Ashby|    Maddocks|\n",
            "|  5|      Kurt|        Rome|\n",
            "+---+----------+------------+\n",
            "\n"
          ]
        }
      ]
    },
    {
      "cell_type": "code",
      "source": [
        "users_df.alias('u').select('u.*').show()"
      ],
      "metadata": {
        "colab": {
          "base_uri": "https://localhost:8080/"
        },
        "id": "XL21cC7KAQoc",
        "outputId": "3e46c469-4f3f-47c5-9e8d-3dea8704310c"
      },
      "execution_count": 29,
      "outputs": [
        {
          "output_type": "stream",
          "name": "stdout",
          "text": [
            "+---+----------+------------+--------------------+--------------------+-------+-----------+-----------+-------------+-------------------+\n",
            "| id|first_name|   last_name|               email|       phone_numbers|courses|is_customer|amount_paid|customer_from|    last_updated_ts|\n",
            "+---+----------+------------+--------------------+--------------------+-------+-----------+-----------+-------------+-------------------+\n",
            "|  1|    Corrie|Van den Oord|cvandenoord0@etsy...|{+1 234 567 8901,...| [1, 2]|       true|    1000.55|   2021-01-15|2021-02-10 01:15:00|\n",
            "|  2|  Nikolaus|     Brewitt|nbrewitt1@dailyma...|{+1 234 567 8923,...|    [3]|       true|      900.0|   2021-02-14|2021-02-18 03:33:00|\n",
            "|  3|    Orelie|      Penney|openney2@vistapri...|{+1 714 512 9752,...| [2, 4]|       true|     850.55|   2021-01-21|2021-03-15 15:16:55|\n",
            "|  4|     Ashby|    Maddocks|  amaddocks3@home.pl|        {NULL, NULL}|     []|      false|        NaN|         NULL|2021-04-10 17:45:30|\n",
            "|  5|      Kurt|        Rome|krome4@shutterfly...|{+1 817 934 7142,...|     []|      false|        NaN|         NULL|2021-04-02 00:55:28|\n",
            "+---+----------+------------+--------------------+--------------------+-------+-----------+-----------+-------------+-------------------+\n",
            "\n"
          ]
        }
      ]
    },
    {
      "cell_type": "code",
      "source": [
        "users_df.select(col('id'),\n",
        "                users_df['first_name'],\n",
        "                'last_name',\n",
        "                users_df.is_customer,\n",
        "                ).show()"
      ],
      "metadata": {
        "colab": {
          "base_uri": "https://localhost:8080/"
        },
        "id": "06tLzIY6AYH4",
        "outputId": "11f342c7-ecf0-48a9-d3ab-723b2c9e7bed"
      },
      "execution_count": null,
      "outputs": [
        {
          "output_type": "stream",
          "name": "stdout",
          "text": [
            "+---+----------+------------+-----------+\n",
            "| id|first_name|   last_name|is_customer|\n",
            "+---+----------+------------+-----------+\n",
            "|  1|    Corrie|Van den Oord|       true|\n",
            "|  2|  Nikolaus|     Brewitt|       true|\n",
            "|  3|    Orelie|      Penney|       true|\n",
            "|  4|     Ashby|    Maddocks|      false|\n",
            "|  5|      Kurt|        Rome|      false|\n",
            "+---+----------+------------+-----------+\n",
            "\n"
          ]
        }
      ]
    },
    {
      "cell_type": "code",
      "source": [
        "from pyspark.sql.functions import col, concat, lit"
      ],
      "metadata": {
        "id": "u_Xu31ZkAepB"
      },
      "execution_count": 30,
      "outputs": []
    },
    {
      "cell_type": "code",
      "source": [
        "users_df.select(\n",
        "    col('id'),\n",
        "    'first_name',\n",
        "    'last_name',\n",
        "    concat('first_name', lit(', '), 'last_name').alias('full_name')\n",
        ").show()"
      ],
      "metadata": {
        "colab": {
          "base_uri": "https://localhost:8080/"
        },
        "id": "UVB6Cn1BAlwz",
        "outputId": "ee7f6e0c-57ad-4b6a-b81a-9703af3e5758"
      },
      "execution_count": 31,
      "outputs": [
        {
          "output_type": "stream",
          "name": "stdout",
          "text": [
            "+---+----------+------------+--------------------+\n",
            "| id|first_name|   last_name|           full_name|\n",
            "+---+----------+------------+--------------------+\n",
            "|  1|    Corrie|Van den Oord|Corrie, Van den Oord|\n",
            "|  2|  Nikolaus|     Brewitt|   Nikolaus, Brewitt|\n",
            "|  3|    Orelie|      Penney|      Orelie, Penney|\n",
            "|  4|     Ashby|    Maddocks|     Ashby, Maddocks|\n",
            "|  5|      Kurt|        Rome|          Kurt, Rome|\n",
            "+---+----------+------------+--------------------+\n",
            "\n"
          ]
        }
      ]
    },
    {
      "cell_type": "code",
      "source": [
        "type(lit(', '))"
      ],
      "metadata": {
        "colab": {
          "base_uri": "https://localhost:8080/",
          "height": 186
        },
        "id": "AWzN_iXloGCP",
        "outputId": "693cc4dc-7518-4641-a7c7-ad5050b354de"
      },
      "execution_count": 32,
      "outputs": [
        {
          "output_type": "execute_result",
          "data": {
            "text/plain": [
              "pyspark.sql.column.Column"
            ],
            "text/html": [
              "<div style=\"max-width:800px; border: 1px solid var(--colab-border-color);\"><style>\n",
              "      pre.function-repr-contents {\n",
              "        overflow-x: auto;\n",
              "        padding: 8px 12px;\n",
              "        max-height: 500px;\n",
              "      }\n",
              "\n",
              "      pre.function-repr-contents.function-repr-contents-collapsed {\n",
              "        cursor: pointer;\n",
              "        max-height: 100px;\n",
              "      }\n",
              "    </style>\n",
              "    <pre style=\"white-space: initial; background:\n",
              "         var(--colab-secondary-surface-color); padding: 8px 12px;\n",
              "         border-bottom: 1px solid var(--colab-border-color);\"><b>pyspark.sql.column.Column</b><br/>def __init__(jc: JavaObject) -&gt; None</pre><pre class=\"function-repr-contents function-repr-contents-collapsed\" style=\"\"><a class=\"filepath\" style=\"display:none\" href=\"#\">/usr/local/lib/python3.10/dist-packages/pyspark/sql/column.py</a>A column in a DataFrame.\n",
              "\n",
              ".. versionadded:: 1.3.0\n",
              "\n",
              ".. versionchanged:: 3.4.0\n",
              "    Supports Spark Connect.\n",
              "\n",
              "Examples\n",
              "--------\n",
              "Column instances can be created by\n",
              "\n",
              "&gt;&gt;&gt; df = spark.createDataFrame(\n",
              "...      [(2, &quot;Alice&quot;), (5, &quot;Bob&quot;)], [&quot;age&quot;, &quot;name&quot;])\n",
              "\n",
              "Select a column out of a DataFrame\n",
              "&gt;&gt;&gt; df.name\n",
              "Column&lt;&#x27;name&#x27;&gt;\n",
              "&gt;&gt;&gt; df[&quot;name&quot;]\n",
              "Column&lt;&#x27;name&#x27;&gt;\n",
              "\n",
              "Create from an expression\n",
              "\n",
              "&gt;&gt;&gt; df.age + 1\n",
              "Column&lt;...&gt;\n",
              "&gt;&gt;&gt; 1 / df.age\n",
              "Column&lt;...&gt;</pre>\n",
              "      <script>\n",
              "      if (google.colab.kernel.accessAllowed && google.colab.files && google.colab.files.view) {\n",
              "        for (const element of document.querySelectorAll('.filepath')) {\n",
              "          element.style.display = 'block'\n",
              "          element.onclick = (event) => {\n",
              "            event.preventDefault();\n",
              "            event.stopPropagation();\n",
              "            google.colab.files.view(element.textContent, 185);\n",
              "          };\n",
              "        }\n",
              "      }\n",
              "      for (const element of document.querySelectorAll('.function-repr-contents')) {\n",
              "        element.onclick = (event) => {\n",
              "          event.preventDefault();\n",
              "          event.stopPropagation();\n",
              "          element.classList.toggle('function-repr-contents-collapsed');\n",
              "        };\n",
              "      }\n",
              "      </script>\n",
              "      </div>"
            ]
          },
          "metadata": {},
          "execution_count": 32
        }
      ]
    },
    {
      "cell_type": "code",
      "source": [
        "users_df.\\\n",
        "  withColumn(\n",
        "      'full_name',\n",
        "    concat(col('first_name'), lit(', '), col('last_name'))\n",
        ").show()"
      ],
      "metadata": {
        "colab": {
          "base_uri": "https://localhost:8080/"
        },
        "id": "9fJ8nDlSBI4q",
        "outputId": "fc7c9d2f-4195-4b31-9343-7f863bad89d3"
      },
      "execution_count": 33,
      "outputs": [
        {
          "output_type": "stream",
          "name": "stdout",
          "text": [
            "+---+----------+------------+--------------------+--------------------+-------+-----------+-----------+-------------+-------------------+--------------------+\n",
            "| id|first_name|   last_name|               email|       phone_numbers|courses|is_customer|amount_paid|customer_from|    last_updated_ts|           full_name|\n",
            "+---+----------+------------+--------------------+--------------------+-------+-----------+-----------+-------------+-------------------+--------------------+\n",
            "|  1|    Corrie|Van den Oord|cvandenoord0@etsy...|{+1 234 567 8901,...| [1, 2]|       true|    1000.55|   2021-01-15|2021-02-10 01:15:00|Corrie, Van den Oord|\n",
            "|  2|  Nikolaus|     Brewitt|nbrewitt1@dailyma...|{+1 234 567 8923,...|    [3]|       true|      900.0|   2021-02-14|2021-02-18 03:33:00|   Nikolaus, Brewitt|\n",
            "|  3|    Orelie|      Penney|openney2@vistapri...|{+1 714 512 9752,...| [2, 4]|       true|     850.55|   2021-01-21|2021-03-15 15:16:55|      Orelie, Penney|\n",
            "|  4|     Ashby|    Maddocks|  amaddocks3@home.pl|        {NULL, NULL}|     []|      false|        NaN|         NULL|2021-04-10 17:45:30|     Ashby, Maddocks|\n",
            "|  5|      Kurt|        Rome|krome4@shutterfly...|{+1 817 934 7142,...|     []|      false|        NaN|         NULL|2021-04-02 00:55:28|          Kurt, Rome|\n",
            "+---+----------+------------+--------------------+--------------------+-------+-----------+-----------+-------------+-------------------+--------------------+\n",
            "\n"
          ]
        }
      ]
    },
    {
      "cell_type": "code",
      "source": [
        "users_df.selectExpr('id', 'first_name', 'last_name', 'concat(first_name, \", \", last_name) AS full_name').show()"
      ],
      "metadata": {
        "colab": {
          "base_uri": "https://localhost:8080/"
        },
        "id": "YtvYcx5cAnSm",
        "outputId": "180a1483-7c8a-4883-bb25-7dd697703316"
      },
      "execution_count": 34,
      "outputs": [
        {
          "output_type": "stream",
          "name": "stdout",
          "text": [
            "+---+----------+------------+--------------------+\n",
            "| id|first_name|   last_name|           full_name|\n",
            "+---+----------+------------+--------------------+\n",
            "|  1|    Corrie|Van den Oord|Corrie, Van den Oord|\n",
            "|  2|  Nikolaus|     Brewitt|   Nikolaus, Brewitt|\n",
            "|  3|    Orelie|      Penney|      Orelie, Penney|\n",
            "|  4|     Ashby|    Maddocks|     Ashby, Maddocks|\n",
            "|  5|      Kurt|        Rome|          Kurt, Rome|\n",
            "+---+----------+------------+--------------------+\n",
            "\n"
          ]
        }
      ]
    },
    {
      "cell_type": "code",
      "source": [
        "users_df.createOrReplaceTempView('users')"
      ],
      "metadata": {
        "id": "P5_C4qysAvwq"
      },
      "execution_count": 35,
      "outputs": []
    },
    {
      "cell_type": "code",
      "source": [
        "spark.sql(\"\"\"\n",
        "    SELECT id, first_name, last_name,\n",
        "        concat(first_name, ', ', last_name) AS full_name\n",
        "    FROM users\n",
        "\"\"\"). \\\n",
        "    show()"
      ],
      "metadata": {
        "colab": {
          "base_uri": "https://localhost:8080/"
        },
        "id": "gGWa0yTYA2Mg",
        "outputId": "8d875e98-0c15-40fe-c583-41eb365f8df0"
      },
      "execution_count": 36,
      "outputs": [
        {
          "output_type": "stream",
          "name": "stdout",
          "text": [
            "+---+----------+------------+--------------------+\n",
            "| id|first_name|   last_name|           full_name|\n",
            "+---+----------+------------+--------------------+\n",
            "|  1|    Corrie|Van den Oord|Corrie, Van den Oord|\n",
            "|  2|  Nikolaus|     Brewitt|   Nikolaus, Brewitt|\n",
            "|  3|    Orelie|      Penney|      Orelie, Penney|\n",
            "|  4|     Ashby|    Maddocks|     Ashby, Maddocks|\n",
            "|  5|      Kurt|        Rome|          Kurt, Rome|\n",
            "+---+----------+------------+--------------------+\n",
            "\n"
          ]
        }
      ]
    },
    {
      "cell_type": "code",
      "source": [
        "users_df. \\\n",
        "    select('id', 'first_name', 'last_name'). \\\n",
        "    show()"
      ],
      "metadata": {
        "colab": {
          "base_uri": "https://localhost:8080/"
        },
        "id": "hqleIpCxA36l",
        "outputId": "0ca7cc5d-0e7e-4ef8-f877-9df558f5cace"
      },
      "execution_count": 37,
      "outputs": [
        {
          "output_type": "stream",
          "name": "stdout",
          "text": [
            "+---+----------+------------+\n",
            "| id|first_name|   last_name|\n",
            "+---+----------+------------+\n",
            "|  1|    Corrie|Van den Oord|\n",
            "|  2|  Nikolaus|     Brewitt|\n",
            "|  3|    Orelie|      Penney|\n",
            "|  4|     Ashby|    Maddocks|\n",
            "|  5|      Kurt|        Rome|\n",
            "+---+----------+------------+\n",
            "\n"
          ]
        }
      ]
    },
    {
      "cell_type": "code",
      "source": [
        "users_df.\\\n",
        "    select('id','first_name','last_name').\\\n",
        "    withColumnRenamed('id','user_id').\\\n",
        "    withColumnRenamed('first_name','user_first_name').\\\n",
        "    withColumnRenamed('last_name','user_last_name').\\\n",
        "    show()"
      ],
      "metadata": {
        "colab": {
          "base_uri": "https://localhost:8080/"
        },
        "id": "Jpwi0dm4B3KW",
        "outputId": "4f92c465-cc19-4b02-ed0b-702a26aa806b"
      },
      "execution_count": 38,
      "outputs": [
        {
          "output_type": "stream",
          "name": "stdout",
          "text": [
            "+-------+---------------+--------------+\n",
            "|user_id|user_first_name|user_last_name|\n",
            "+-------+---------------+--------------+\n",
            "|      1|         Corrie|  Van den Oord|\n",
            "|      2|       Nikolaus|       Brewitt|\n",
            "|      3|         Orelie|        Penney|\n",
            "|      4|          Ashby|      Maddocks|\n",
            "|      5|           Kurt|          Rome|\n",
            "+-------+---------------+--------------+\n",
            "\n"
          ]
        }
      ]
    },
    {
      "cell_type": "code",
      "source": [
        "spark.read.csv(path='Customers.csv').show()"
      ],
      "metadata": {
        "colab": {
          "base_uri": "https://localhost:8080/"
        },
        "id": "uLpniH0dB46T",
        "outputId": "441fc4a2-4b28-42fa-87b8-8bf57713c6b2"
      },
      "execution_count": 39,
      "outputs": [
        {
          "output_type": "stream",
          "name": "stdout",
          "text": [
            "+-----------+------+-----------------+--------------+----------+------------------+--------+---------+---------+----------+\n",
            "|        _c0|   _c1|              _c2|           _c3|       _c4|               _c5|     _c6|      _c7|      _c8|       _c9|\n",
            "+-----------+------+-----------------+--------------+----------+------------------+--------+---------+---------+----------+\n",
            "|CustomerKey|Gender|             Name|          City|State Code|             State|Zip Code|  Country|Continent|  Birthday|\n",
            "|        301|Female|    Lilly Harding|WANDEARAH EAST|        SA|   South Australia|    5523|Australia|Australia|  7/3/1939|\n",
            "|        325|Female|     Madison Hull|    MOUNT BUDD|        WA| Western Australia|    6522|Australia|Australia| 9/27/1979|\n",
            "|        554|Female|    Claire Ferres|     WINJALLOK|       VIC|          Victoria|    3380|Australia|Australia| 5/26/1947|\n",
            "|        786|  Male|Jai Poltpalingada|  MIDDLE RIVER|        SA|   South Australia|    5223|Australia|Australia| 9/17/1957|\n",
            "|       1042|  Male|  Aidan Pankhurst| TAWONGA SOUTH|       VIC|          Victoria|    3698|Australia|Australia|11/19/1965|\n",
            "|       1086|  Male|     Hayden Clegg|      TEMPLERS|        SA|   South Australia|    5371|Australia|Australia| 1/20/1954|\n",
            "|       1133|  Male|  Nicholas Caffyn|JUBILEE POCKET|       QLD|        Queensland|    4802|Australia|Australia|11/22/1969|\n",
            "|       1256|  Male|    Lincoln Jenks|      KULLOGUM|       QLD|        Queensland|    4660|Australia|Australia| 3/12/1950|\n",
            "|       1314|  Male|     Isaac Israel|   EDITH RIVER|        NT|Northern Territory|     852|Australia|Australia|12/21/1965|\n",
            "|       1568|  Male|      Luke Virtue|         KOTTA|       VIC|          Victoria|    3565|Australia|Australia| 7/25/1975|\n",
            "|       1585|Female|   Anna Hallstrom|    GREEN LAKE|       VIC|          Victoria|    3401|Australia|Australia| 8/12/1990|\n",
            "|       1626|Female|       Mary Leach|   NEDS CORNER|       VIC|          Victoria|    3496|Australia|Australia|10/17/1985|\n",
            "|       1642|Female|     Ruby Ambrose|         TARLO|       NSW|   New South Wales|    2580|Australia|Australia|  3/3/1965|\n",
            "|       1677|  Male|       Dean Innes|     ELLESMERE|       QLD|        Queensland|    4610|Australia|Australia|11/22/1964|\n",
            "|       1817|Female|Laura Le Rennetel|     BEAUCHAMP|       VIC|          Victoria|    3579|Australia|Australia| 7/10/1986|\n",
            "|       1863|Female|  Chelsea Watkins|    NAMBOUR DC|       QLD|        Queensland|    4560|Australia|Australia| 9/22/1984|\n",
            "|       1945|  Male|Angus Beaurepaire|   GREENFIELDS|        WA| Western Australia|    6210|Australia|Australia| 9/20/1974|\n",
            "|       2238|Female| Isabelle Cochran|     BRUCKNELL|       VIC|          Victoria|    3268|Australia|Australia|10/31/1969|\n",
            "|       2248|  Male|      Rory Spargo|          JUNG|       VIC|          Victoria|    3401|Australia|Australia|12/15/1987|\n",
            "+-----------+------+-----------------+--------------+----------+------------------+--------+---------+---------+----------+\n",
            "only showing top 20 rows\n",
            "\n"
          ]
        }
      ]
    },
    {
      "cell_type": "code",
      "source": [
        "customers_df=spark.read.csv(path='Customers.csv',header=True)"
      ],
      "metadata": {
        "id": "K3RLGnbGHSo5"
      },
      "execution_count": 40,
      "outputs": []
    },
    {
      "cell_type": "code",
      "source": [
        "customers_df.show()"
      ],
      "metadata": {
        "colab": {
          "base_uri": "https://localhost:8080/"
        },
        "id": "7Woi3bufHYvd",
        "outputId": "1420ce7e-8e75-4351-d26b-74f7d7a8c63d"
      },
      "execution_count": 41,
      "outputs": [
        {
          "output_type": "stream",
          "name": "stdout",
          "text": [
            "+-----------+------+-----------------+--------------+----------+------------------+--------+---------+---------+----------+\n",
            "|CustomerKey|Gender|             Name|          City|State Code|             State|Zip Code|  Country|Continent|  Birthday|\n",
            "+-----------+------+-----------------+--------------+----------+------------------+--------+---------+---------+----------+\n",
            "|        301|Female|    Lilly Harding|WANDEARAH EAST|        SA|   South Australia|    5523|Australia|Australia|  7/3/1939|\n",
            "|        325|Female|     Madison Hull|    MOUNT BUDD|        WA| Western Australia|    6522|Australia|Australia| 9/27/1979|\n",
            "|        554|Female|    Claire Ferres|     WINJALLOK|       VIC|          Victoria|    3380|Australia|Australia| 5/26/1947|\n",
            "|        786|  Male|Jai Poltpalingada|  MIDDLE RIVER|        SA|   South Australia|    5223|Australia|Australia| 9/17/1957|\n",
            "|       1042|  Male|  Aidan Pankhurst| TAWONGA SOUTH|       VIC|          Victoria|    3698|Australia|Australia|11/19/1965|\n",
            "|       1086|  Male|     Hayden Clegg|      TEMPLERS|        SA|   South Australia|    5371|Australia|Australia| 1/20/1954|\n",
            "|       1133|  Male|  Nicholas Caffyn|JUBILEE POCKET|       QLD|        Queensland|    4802|Australia|Australia|11/22/1969|\n",
            "|       1256|  Male|    Lincoln Jenks|      KULLOGUM|       QLD|        Queensland|    4660|Australia|Australia| 3/12/1950|\n",
            "|       1314|  Male|     Isaac Israel|   EDITH RIVER|        NT|Northern Territory|     852|Australia|Australia|12/21/1965|\n",
            "|       1568|  Male|      Luke Virtue|         KOTTA|       VIC|          Victoria|    3565|Australia|Australia| 7/25/1975|\n",
            "|       1585|Female|   Anna Hallstrom|    GREEN LAKE|       VIC|          Victoria|    3401|Australia|Australia| 8/12/1990|\n",
            "|       1626|Female|       Mary Leach|   NEDS CORNER|       VIC|          Victoria|    3496|Australia|Australia|10/17/1985|\n",
            "|       1642|Female|     Ruby Ambrose|         TARLO|       NSW|   New South Wales|    2580|Australia|Australia|  3/3/1965|\n",
            "|       1677|  Male|       Dean Innes|     ELLESMERE|       QLD|        Queensland|    4610|Australia|Australia|11/22/1964|\n",
            "|       1817|Female|Laura Le Rennetel|     BEAUCHAMP|       VIC|          Victoria|    3579|Australia|Australia| 7/10/1986|\n",
            "|       1863|Female|  Chelsea Watkins|    NAMBOUR DC|       QLD|        Queensland|    4560|Australia|Australia| 9/22/1984|\n",
            "|       1945|  Male|Angus Beaurepaire|   GREENFIELDS|        WA| Western Australia|    6210|Australia|Australia| 9/20/1974|\n",
            "|       2238|Female| Isabelle Cochran|     BRUCKNELL|       VIC|          Victoria|    3268|Australia|Australia|10/31/1969|\n",
            "|       2248|  Male|      Rory Spargo|          JUNG|       VIC|          Victoria|    3401|Australia|Australia|12/15/1987|\n",
            "|       2435|Female|      Lilian Hall|    BLAKEBROOK|       NSW|   New South Wales|    2480|Australia|Australia|  4/1/1968|\n",
            "+-----------+------+-----------------+--------------+----------+------------------+--------+---------+---------+----------+\n",
            "only showing top 20 rows\n",
            "\n"
          ]
        }
      ]
    },
    {
      "cell_type": "code",
      "source": [
        "customers_df.printSchema()"
      ],
      "metadata": {
        "colab": {
          "base_uri": "https://localhost:8080/"
        },
        "id": "P4mslDdsHk-W",
        "outputId": "abf2b8fe-9ae3-4325-d530-7de09f48097e"
      },
      "execution_count": 42,
      "outputs": [
        {
          "output_type": "stream",
          "name": "stdout",
          "text": [
            "root\n",
            " |-- CustomerKey: string (nullable = true)\n",
            " |-- Gender: string (nullable = true)\n",
            " |-- Name: string (nullable = true)\n",
            " |-- City: string (nullable = true)\n",
            " |-- State Code: string (nullable = true)\n",
            " |-- State: string (nullable = true)\n",
            " |-- Zip Code: string (nullable = true)\n",
            " |-- Country: string (nullable = true)\n",
            " |-- Continent: string (nullable = true)\n",
            " |-- Birthday: string (nullable = true)\n",
            "\n"
          ]
        }
      ]
    },
    {
      "cell_type": "code",
      "source": [
        "from pyspark.sql.types import StructType, StructField, StringType,IntegerType\n",
        "\n",
        "# Define the schema\n",
        "schema = StructType([\n",
        "    StructField(\"CustomerKey\", IntegerType()),\n",
        "    StructField(\"Gender\", StringType()),\n",
        "    StructField(\"Name\", StringType()),\n",
        "    StructField(\"City\", StringType()),\n",
        "    StructField(\"State Code\", StringType()),\n",
        "    StructField(\"State\", StringType()),\n",
        "    StructField(\"Zip Code\", StringType()),\n",
        "    StructField(\"Country\", StringType()),\n",
        "    StructField(\"Continent\", StringType()),\n",
        "    StructField(\"Birthday\", StringType())\n",
        "])\n"
      ],
      "metadata": {
        "id": "JodgESO5IDBe"
      },
      "execution_count": 43,
      "outputs": []
    },
    {
      "cell_type": "code",
      "source": [
        "spark.read.csv(path='Customers.csv',header=True,schema=schema).show()"
      ],
      "metadata": {
        "colab": {
          "base_uri": "https://localhost:8080/"
        },
        "id": "9Mwb9WndHm-S",
        "outputId": "25d4623c-6d8b-4bf7-c994-c29140c17516"
      },
      "execution_count": 44,
      "outputs": [
        {
          "output_type": "stream",
          "name": "stdout",
          "text": [
            "+-----------+------+-----------------+--------------+----------+------------------+--------+---------+---------+----------+\n",
            "|CustomerKey|Gender|             Name|          City|State Code|             State|Zip Code|  Country|Continent|  Birthday|\n",
            "+-----------+------+-----------------+--------------+----------+------------------+--------+---------+---------+----------+\n",
            "|        301|Female|    Lilly Harding|WANDEARAH EAST|        SA|   South Australia|    5523|Australia|Australia|  7/3/1939|\n",
            "|        325|Female|     Madison Hull|    MOUNT BUDD|        WA| Western Australia|    6522|Australia|Australia| 9/27/1979|\n",
            "|        554|Female|    Claire Ferres|     WINJALLOK|       VIC|          Victoria|    3380|Australia|Australia| 5/26/1947|\n",
            "|        786|  Male|Jai Poltpalingada|  MIDDLE RIVER|        SA|   South Australia|    5223|Australia|Australia| 9/17/1957|\n",
            "|       1042|  Male|  Aidan Pankhurst| TAWONGA SOUTH|       VIC|          Victoria|    3698|Australia|Australia|11/19/1965|\n",
            "|       1086|  Male|     Hayden Clegg|      TEMPLERS|        SA|   South Australia|    5371|Australia|Australia| 1/20/1954|\n",
            "|       1133|  Male|  Nicholas Caffyn|JUBILEE POCKET|       QLD|        Queensland|    4802|Australia|Australia|11/22/1969|\n",
            "|       1256|  Male|    Lincoln Jenks|      KULLOGUM|       QLD|        Queensland|    4660|Australia|Australia| 3/12/1950|\n",
            "|       1314|  Male|     Isaac Israel|   EDITH RIVER|        NT|Northern Territory|     852|Australia|Australia|12/21/1965|\n",
            "|       1568|  Male|      Luke Virtue|         KOTTA|       VIC|          Victoria|    3565|Australia|Australia| 7/25/1975|\n",
            "|       1585|Female|   Anna Hallstrom|    GREEN LAKE|       VIC|          Victoria|    3401|Australia|Australia| 8/12/1990|\n",
            "|       1626|Female|       Mary Leach|   NEDS CORNER|       VIC|          Victoria|    3496|Australia|Australia|10/17/1985|\n",
            "|       1642|Female|     Ruby Ambrose|         TARLO|       NSW|   New South Wales|    2580|Australia|Australia|  3/3/1965|\n",
            "|       1677|  Male|       Dean Innes|     ELLESMERE|       QLD|        Queensland|    4610|Australia|Australia|11/22/1964|\n",
            "|       1817|Female|Laura Le Rennetel|     BEAUCHAMP|       VIC|          Victoria|    3579|Australia|Australia| 7/10/1986|\n",
            "|       1863|Female|  Chelsea Watkins|    NAMBOUR DC|       QLD|        Queensland|    4560|Australia|Australia| 9/22/1984|\n",
            "|       1945|  Male|Angus Beaurepaire|   GREENFIELDS|        WA| Western Australia|    6210|Australia|Australia| 9/20/1974|\n",
            "|       2238|Female| Isabelle Cochran|     BRUCKNELL|       VIC|          Victoria|    3268|Australia|Australia|10/31/1969|\n",
            "|       2248|  Male|      Rory Spargo|          JUNG|       VIC|          Victoria|    3401|Australia|Australia|12/15/1987|\n",
            "|       2435|Female|      Lilian Hall|    BLAKEBROOK|       NSW|   New South Wales|    2480|Australia|Australia|  4/1/1968|\n",
            "+-----------+------+-----------------+--------------+----------+------------------+--------+---------+---------+----------+\n",
            "only showing top 20 rows\n",
            "\n"
          ]
        }
      ]
    },
    {
      "cell_type": "code",
      "source": [
        "spark.read.csv(path='Customers.csv',header=True,schema=schema).printSchema()"
      ],
      "metadata": {
        "colab": {
          "base_uri": "https://localhost:8080/"
        },
        "id": "RtIIhp3jHzO8",
        "outputId": "b9ad1a7e-d0e3-444a-9a41-152955c8723a"
      },
      "execution_count": 45,
      "outputs": [
        {
          "output_type": "stream",
          "name": "stdout",
          "text": [
            "root\n",
            " |-- CustomerKey: integer (nullable = true)\n",
            " |-- Gender: string (nullable = true)\n",
            " |-- Name: string (nullable = true)\n",
            " |-- City: string (nullable = true)\n",
            " |-- State Code: string (nullable = true)\n",
            " |-- State: string (nullable = true)\n",
            " |-- Zip Code: string (nullable = true)\n",
            " |-- Country: string (nullable = true)\n",
            " |-- Continent: string (nullable = true)\n",
            " |-- Birthday: string (nullable = true)\n",
            "\n"
          ]
        }
      ]
    },
    {
      "cell_type": "code",
      "source": [
        "customers_df=customers_df.withColumnRenamed('CustomerKey','customer_id')"
      ],
      "metadata": {
        "id": "khKGl3C_IjSx"
      },
      "execution_count": 46,
      "outputs": []
    },
    {
      "cell_type": "code",
      "source": [
        "customers_df.show()"
      ],
      "metadata": {
        "colab": {
          "base_uri": "https://localhost:8080/"
        },
        "id": "9zaXSrnWI-SG",
        "outputId": "d9bad32e-399d-435f-e751-9f32cded1869"
      },
      "execution_count": 47,
      "outputs": [
        {
          "output_type": "stream",
          "name": "stdout",
          "text": [
            "+-----------+------+-----------------+--------------+----------+------------------+--------+---------+---------+----------+\n",
            "|customer_id|Gender|             Name|          City|State Code|             State|Zip Code|  Country|Continent|  Birthday|\n",
            "+-----------+------+-----------------+--------------+----------+------------------+--------+---------+---------+----------+\n",
            "|        301|Female|    Lilly Harding|WANDEARAH EAST|        SA|   South Australia|    5523|Australia|Australia|  7/3/1939|\n",
            "|        325|Female|     Madison Hull|    MOUNT BUDD|        WA| Western Australia|    6522|Australia|Australia| 9/27/1979|\n",
            "|        554|Female|    Claire Ferres|     WINJALLOK|       VIC|          Victoria|    3380|Australia|Australia| 5/26/1947|\n",
            "|        786|  Male|Jai Poltpalingada|  MIDDLE RIVER|        SA|   South Australia|    5223|Australia|Australia| 9/17/1957|\n",
            "|       1042|  Male|  Aidan Pankhurst| TAWONGA SOUTH|       VIC|          Victoria|    3698|Australia|Australia|11/19/1965|\n",
            "|       1086|  Male|     Hayden Clegg|      TEMPLERS|        SA|   South Australia|    5371|Australia|Australia| 1/20/1954|\n",
            "|       1133|  Male|  Nicholas Caffyn|JUBILEE POCKET|       QLD|        Queensland|    4802|Australia|Australia|11/22/1969|\n",
            "|       1256|  Male|    Lincoln Jenks|      KULLOGUM|       QLD|        Queensland|    4660|Australia|Australia| 3/12/1950|\n",
            "|       1314|  Male|     Isaac Israel|   EDITH RIVER|        NT|Northern Territory|     852|Australia|Australia|12/21/1965|\n",
            "|       1568|  Male|      Luke Virtue|         KOTTA|       VIC|          Victoria|    3565|Australia|Australia| 7/25/1975|\n",
            "|       1585|Female|   Anna Hallstrom|    GREEN LAKE|       VIC|          Victoria|    3401|Australia|Australia| 8/12/1990|\n",
            "|       1626|Female|       Mary Leach|   NEDS CORNER|       VIC|          Victoria|    3496|Australia|Australia|10/17/1985|\n",
            "|       1642|Female|     Ruby Ambrose|         TARLO|       NSW|   New South Wales|    2580|Australia|Australia|  3/3/1965|\n",
            "|       1677|  Male|       Dean Innes|     ELLESMERE|       QLD|        Queensland|    4610|Australia|Australia|11/22/1964|\n",
            "|       1817|Female|Laura Le Rennetel|     BEAUCHAMP|       VIC|          Victoria|    3579|Australia|Australia| 7/10/1986|\n",
            "|       1863|Female|  Chelsea Watkins|    NAMBOUR DC|       QLD|        Queensland|    4560|Australia|Australia| 9/22/1984|\n",
            "|       1945|  Male|Angus Beaurepaire|   GREENFIELDS|        WA| Western Australia|    6210|Australia|Australia| 9/20/1974|\n",
            "|       2238|Female| Isabelle Cochran|     BRUCKNELL|       VIC|          Victoria|    3268|Australia|Australia|10/31/1969|\n",
            "|       2248|  Male|      Rory Spargo|          JUNG|       VIC|          Victoria|    3401|Australia|Australia|12/15/1987|\n",
            "|       2435|Female|      Lilian Hall|    BLAKEBROOK|       NSW|   New South Wales|    2480|Australia|Australia|  4/1/1968|\n",
            "+-----------+------+-----------------+--------------+----------+------------------+--------+---------+---------+----------+\n",
            "only showing top 20 rows\n",
            "\n"
          ]
        }
      ]
    },
    {
      "cell_type": "code",
      "source": [
        "customers_df=customers_df.withColumn('Birthday_1',col('Birthday').cast('date'))"
      ],
      "metadata": {
        "id": "XGk_St2CI1G5"
      },
      "execution_count": 48,
      "outputs": []
    },
    {
      "cell_type": "code",
      "source": [
        "customers_df.show()"
      ],
      "metadata": {
        "colab": {
          "base_uri": "https://localhost:8080/"
        },
        "id": "BZuYopVIJGNy",
        "outputId": "246de012-1f8d-4641-a5b1-3e0a657c116a"
      },
      "execution_count": 49,
      "outputs": [
        {
          "output_type": "stream",
          "name": "stdout",
          "text": [
            "+-----------+------+-----------------+--------------+----------+------------------+--------+---------+---------+----------+----------+\n",
            "|customer_id|Gender|             Name|          City|State Code|             State|Zip Code|  Country|Continent|  Birthday|Birthday_1|\n",
            "+-----------+------+-----------------+--------------+----------+------------------+--------+---------+---------+----------+----------+\n",
            "|        301|Female|    Lilly Harding|WANDEARAH EAST|        SA|   South Australia|    5523|Australia|Australia|  7/3/1939|      NULL|\n",
            "|        325|Female|     Madison Hull|    MOUNT BUDD|        WA| Western Australia|    6522|Australia|Australia| 9/27/1979|      NULL|\n",
            "|        554|Female|    Claire Ferres|     WINJALLOK|       VIC|          Victoria|    3380|Australia|Australia| 5/26/1947|      NULL|\n",
            "|        786|  Male|Jai Poltpalingada|  MIDDLE RIVER|        SA|   South Australia|    5223|Australia|Australia| 9/17/1957|      NULL|\n",
            "|       1042|  Male|  Aidan Pankhurst| TAWONGA SOUTH|       VIC|          Victoria|    3698|Australia|Australia|11/19/1965|      NULL|\n",
            "|       1086|  Male|     Hayden Clegg|      TEMPLERS|        SA|   South Australia|    5371|Australia|Australia| 1/20/1954|      NULL|\n",
            "|       1133|  Male|  Nicholas Caffyn|JUBILEE POCKET|       QLD|        Queensland|    4802|Australia|Australia|11/22/1969|      NULL|\n",
            "|       1256|  Male|    Lincoln Jenks|      KULLOGUM|       QLD|        Queensland|    4660|Australia|Australia| 3/12/1950|      NULL|\n",
            "|       1314|  Male|     Isaac Israel|   EDITH RIVER|        NT|Northern Territory|     852|Australia|Australia|12/21/1965|      NULL|\n",
            "|       1568|  Male|      Luke Virtue|         KOTTA|       VIC|          Victoria|    3565|Australia|Australia| 7/25/1975|      NULL|\n",
            "|       1585|Female|   Anna Hallstrom|    GREEN LAKE|       VIC|          Victoria|    3401|Australia|Australia| 8/12/1990|      NULL|\n",
            "|       1626|Female|       Mary Leach|   NEDS CORNER|       VIC|          Victoria|    3496|Australia|Australia|10/17/1985|      NULL|\n",
            "|       1642|Female|     Ruby Ambrose|         TARLO|       NSW|   New South Wales|    2580|Australia|Australia|  3/3/1965|      NULL|\n",
            "|       1677|  Male|       Dean Innes|     ELLESMERE|       QLD|        Queensland|    4610|Australia|Australia|11/22/1964|      NULL|\n",
            "|       1817|Female|Laura Le Rennetel|     BEAUCHAMP|       VIC|          Victoria|    3579|Australia|Australia| 7/10/1986|      NULL|\n",
            "|       1863|Female|  Chelsea Watkins|    NAMBOUR DC|       QLD|        Queensland|    4560|Australia|Australia| 9/22/1984|      NULL|\n",
            "|       1945|  Male|Angus Beaurepaire|   GREENFIELDS|        WA| Western Australia|    6210|Australia|Australia| 9/20/1974|      NULL|\n",
            "|       2238|Female| Isabelle Cochran|     BRUCKNELL|       VIC|          Victoria|    3268|Australia|Australia|10/31/1969|      NULL|\n",
            "|       2248|  Male|      Rory Spargo|          JUNG|       VIC|          Victoria|    3401|Australia|Australia|12/15/1987|      NULL|\n",
            "|       2435|Female|      Lilian Hall|    BLAKEBROOK|       NSW|   New South Wales|    2480|Australia|Australia|  4/1/1968|      NULL|\n",
            "+-----------+------+-----------------+--------------+----------+------------------+--------+---------+---------+----------+----------+\n",
            "only showing top 20 rows\n",
            "\n"
          ]
        }
      ]
    },
    {
      "cell_type": "code",
      "source": [
        "from pyspark.sql.functions import to_date"
      ],
      "metadata": {
        "id": "QXbZjJIPJVsm"
      },
      "execution_count": 50,
      "outputs": []
    },
    {
      "cell_type": "code",
      "source": [
        "customers_df=customers_df.withColumn('Birthday_1',to_date(col('Birthday'),'M/d/yyyy'))"
      ],
      "metadata": {
        "id": "Y3k_DHZCJO-H"
      },
      "execution_count": 51,
      "outputs": []
    },
    {
      "cell_type": "code",
      "source": [
        "customers_df.show()"
      ],
      "metadata": {
        "colab": {
          "base_uri": "https://localhost:8080/"
        },
        "id": "O7GxrO-eJo_v",
        "outputId": "a81c68a0-ff59-4c15-cd25-8f148e84af7f"
      },
      "execution_count": 52,
      "outputs": [
        {
          "output_type": "stream",
          "name": "stdout",
          "text": [
            "+-----------+------+-----------------+--------------+----------+------------------+--------+---------+---------+----------+----------+\n",
            "|customer_id|Gender|             Name|          City|State Code|             State|Zip Code|  Country|Continent|  Birthday|Birthday_1|\n",
            "+-----------+------+-----------------+--------------+----------+------------------+--------+---------+---------+----------+----------+\n",
            "|        301|Female|    Lilly Harding|WANDEARAH EAST|        SA|   South Australia|    5523|Australia|Australia|  7/3/1939|1939-07-03|\n",
            "|        325|Female|     Madison Hull|    MOUNT BUDD|        WA| Western Australia|    6522|Australia|Australia| 9/27/1979|1979-09-27|\n",
            "|        554|Female|    Claire Ferres|     WINJALLOK|       VIC|          Victoria|    3380|Australia|Australia| 5/26/1947|1947-05-26|\n",
            "|        786|  Male|Jai Poltpalingada|  MIDDLE RIVER|        SA|   South Australia|    5223|Australia|Australia| 9/17/1957|1957-09-17|\n",
            "|       1042|  Male|  Aidan Pankhurst| TAWONGA SOUTH|       VIC|          Victoria|    3698|Australia|Australia|11/19/1965|1965-11-19|\n",
            "|       1086|  Male|     Hayden Clegg|      TEMPLERS|        SA|   South Australia|    5371|Australia|Australia| 1/20/1954|1954-01-20|\n",
            "|       1133|  Male|  Nicholas Caffyn|JUBILEE POCKET|       QLD|        Queensland|    4802|Australia|Australia|11/22/1969|1969-11-22|\n",
            "|       1256|  Male|    Lincoln Jenks|      KULLOGUM|       QLD|        Queensland|    4660|Australia|Australia| 3/12/1950|1950-03-12|\n",
            "|       1314|  Male|     Isaac Israel|   EDITH RIVER|        NT|Northern Territory|     852|Australia|Australia|12/21/1965|1965-12-21|\n",
            "|       1568|  Male|      Luke Virtue|         KOTTA|       VIC|          Victoria|    3565|Australia|Australia| 7/25/1975|1975-07-25|\n",
            "|       1585|Female|   Anna Hallstrom|    GREEN LAKE|       VIC|          Victoria|    3401|Australia|Australia| 8/12/1990|1990-08-12|\n",
            "|       1626|Female|       Mary Leach|   NEDS CORNER|       VIC|          Victoria|    3496|Australia|Australia|10/17/1985|1985-10-17|\n",
            "|       1642|Female|     Ruby Ambrose|         TARLO|       NSW|   New South Wales|    2580|Australia|Australia|  3/3/1965|1965-03-03|\n",
            "|       1677|  Male|       Dean Innes|     ELLESMERE|       QLD|        Queensland|    4610|Australia|Australia|11/22/1964|1964-11-22|\n",
            "|       1817|Female|Laura Le Rennetel|     BEAUCHAMP|       VIC|          Victoria|    3579|Australia|Australia| 7/10/1986|1986-07-10|\n",
            "|       1863|Female|  Chelsea Watkins|    NAMBOUR DC|       QLD|        Queensland|    4560|Australia|Australia| 9/22/1984|1984-09-22|\n",
            "|       1945|  Male|Angus Beaurepaire|   GREENFIELDS|        WA| Western Australia|    6210|Australia|Australia| 9/20/1974|1974-09-20|\n",
            "|       2238|Female| Isabelle Cochran|     BRUCKNELL|       VIC|          Victoria|    3268|Australia|Australia|10/31/1969|1969-10-31|\n",
            "|       2248|  Male|      Rory Spargo|          JUNG|       VIC|          Victoria|    3401|Australia|Australia|12/15/1987|1987-12-15|\n",
            "|       2435|Female|      Lilian Hall|    BLAKEBROOK|       NSW|   New South Wales|    2480|Australia|Australia|  4/1/1968|1968-04-01|\n",
            "+-----------+------+-----------------+--------------+----------+------------------+--------+---------+---------+----------+----------+\n",
            "only showing top 20 rows\n",
            "\n"
          ]
        }
      ]
    },
    {
      "cell_type": "code",
      "source": [
        "customers_df.printSchema()"
      ],
      "metadata": {
        "colab": {
          "base_uri": "https://localhost:8080/"
        },
        "id": "LHcmJt-IpDUN",
        "outputId": "9eda601e-0b35-48d3-d0a7-e56ea366715b"
      },
      "execution_count": 53,
      "outputs": [
        {
          "output_type": "stream",
          "name": "stdout",
          "text": [
            "root\n",
            " |-- customer_id: string (nullable = true)\n",
            " |-- Gender: string (nullable = true)\n",
            " |-- Name: string (nullable = true)\n",
            " |-- City: string (nullable = true)\n",
            " |-- State Code: string (nullable = true)\n",
            " |-- State: string (nullable = true)\n",
            " |-- Zip Code: string (nullable = true)\n",
            " |-- Country: string (nullable = true)\n",
            " |-- Continent: string (nullable = true)\n",
            " |-- Birthday: string (nullable = true)\n",
            " |-- Birthday_1: date (nullable = true)\n",
            "\n"
          ]
        }
      ]
    },
    {
      "cell_type": "code",
      "source": [
        "customers_df=customers_df.\\\n",
        "  drop('Birthday').\\\n",
        "  withColumnRenamed('Birthday_1','Birthday')"
      ],
      "metadata": {
        "id": "qL4nuN0aKndg"
      },
      "execution_count": 54,
      "outputs": []
    },
    {
      "cell_type": "code",
      "source": [
        "customers_df.show()"
      ],
      "metadata": {
        "colab": {
          "base_uri": "https://localhost:8080/"
        },
        "id": "iYp-wpaOLBva",
        "outputId": "c617cfc1-1806-43b2-8a4c-a08f86f1e3fa"
      },
      "execution_count": 55,
      "outputs": [
        {
          "output_type": "stream",
          "name": "stdout",
          "text": [
            "+-----------+------+-----------------+--------------+----------+------------------+--------+---------+---------+----------+\n",
            "|customer_id|Gender|             Name|          City|State Code|             State|Zip Code|  Country|Continent|  Birthday|\n",
            "+-----------+------+-----------------+--------------+----------+------------------+--------+---------+---------+----------+\n",
            "|        301|Female|    Lilly Harding|WANDEARAH EAST|        SA|   South Australia|    5523|Australia|Australia|1939-07-03|\n",
            "|        325|Female|     Madison Hull|    MOUNT BUDD|        WA| Western Australia|    6522|Australia|Australia|1979-09-27|\n",
            "|        554|Female|    Claire Ferres|     WINJALLOK|       VIC|          Victoria|    3380|Australia|Australia|1947-05-26|\n",
            "|        786|  Male|Jai Poltpalingada|  MIDDLE RIVER|        SA|   South Australia|    5223|Australia|Australia|1957-09-17|\n",
            "|       1042|  Male|  Aidan Pankhurst| TAWONGA SOUTH|       VIC|          Victoria|    3698|Australia|Australia|1965-11-19|\n",
            "|       1086|  Male|     Hayden Clegg|      TEMPLERS|        SA|   South Australia|    5371|Australia|Australia|1954-01-20|\n",
            "|       1133|  Male|  Nicholas Caffyn|JUBILEE POCKET|       QLD|        Queensland|    4802|Australia|Australia|1969-11-22|\n",
            "|       1256|  Male|    Lincoln Jenks|      KULLOGUM|       QLD|        Queensland|    4660|Australia|Australia|1950-03-12|\n",
            "|       1314|  Male|     Isaac Israel|   EDITH RIVER|        NT|Northern Territory|     852|Australia|Australia|1965-12-21|\n",
            "|       1568|  Male|      Luke Virtue|         KOTTA|       VIC|          Victoria|    3565|Australia|Australia|1975-07-25|\n",
            "|       1585|Female|   Anna Hallstrom|    GREEN LAKE|       VIC|          Victoria|    3401|Australia|Australia|1990-08-12|\n",
            "|       1626|Female|       Mary Leach|   NEDS CORNER|       VIC|          Victoria|    3496|Australia|Australia|1985-10-17|\n",
            "|       1642|Female|     Ruby Ambrose|         TARLO|       NSW|   New South Wales|    2580|Australia|Australia|1965-03-03|\n",
            "|       1677|  Male|       Dean Innes|     ELLESMERE|       QLD|        Queensland|    4610|Australia|Australia|1964-11-22|\n",
            "|       1817|Female|Laura Le Rennetel|     BEAUCHAMP|       VIC|          Victoria|    3579|Australia|Australia|1986-07-10|\n",
            "|       1863|Female|  Chelsea Watkins|    NAMBOUR DC|       QLD|        Queensland|    4560|Australia|Australia|1984-09-22|\n",
            "|       1945|  Male|Angus Beaurepaire|   GREENFIELDS|        WA| Western Australia|    6210|Australia|Australia|1974-09-20|\n",
            "|       2238|Female| Isabelle Cochran|     BRUCKNELL|       VIC|          Victoria|    3268|Australia|Australia|1969-10-31|\n",
            "|       2248|  Male|      Rory Spargo|          JUNG|       VIC|          Victoria|    3401|Australia|Australia|1987-12-15|\n",
            "|       2435|Female|      Lilian Hall|    BLAKEBROOK|       NSW|   New South Wales|    2480|Australia|Australia|1968-04-01|\n",
            "+-----------+------+-----------------+--------------+----------+------------------+--------+---------+---------+----------+\n",
            "only showing top 20 rows\n",
            "\n"
          ]
        }
      ]
    },
    {
      "cell_type": "code",
      "source": [
        "from pyspark.sql.functions import year,month,date_format"
      ],
      "metadata": {
        "id": "cxZpPipmKMGA"
      },
      "execution_count": 56,
      "outputs": []
    },
    {
      "cell_type": "code",
      "source": [
        "customers_df=customers_df.withColumns({'year':year('Birthday'),'month':month('Birthday'),'week_name':date_format('Birthday','EEEE')})"
      ],
      "metadata": {
        "id": "JScVvgCqKBNc"
      },
      "execution_count": 57,
      "outputs": []
    },
    {
      "cell_type": "code",
      "source": [
        "customers_df.show()"
      ],
      "metadata": {
        "colab": {
          "base_uri": "https://localhost:8080/"
        },
        "id": "GGzVjbyQKK3_",
        "outputId": "63242c60-71be-41f1-f68d-bee062bcac17"
      },
      "execution_count": 58,
      "outputs": [
        {
          "output_type": "stream",
          "name": "stdout",
          "text": [
            "+-----------+------+-----------------+--------------+----------+------------------+--------+---------+---------+----------+----+-----+---------+\n",
            "|customer_id|Gender|             Name|          City|State Code|             State|Zip Code|  Country|Continent|  Birthday|year|month|week_name|\n",
            "+-----------+------+-----------------+--------------+----------+------------------+--------+---------+---------+----------+----+-----+---------+\n",
            "|        301|Female|    Lilly Harding|WANDEARAH EAST|        SA|   South Australia|    5523|Australia|Australia|1939-07-03|1939|    7|   Monday|\n",
            "|        325|Female|     Madison Hull|    MOUNT BUDD|        WA| Western Australia|    6522|Australia|Australia|1979-09-27|1979|    9| Thursday|\n",
            "|        554|Female|    Claire Ferres|     WINJALLOK|       VIC|          Victoria|    3380|Australia|Australia|1947-05-26|1947|    5|   Monday|\n",
            "|        786|  Male|Jai Poltpalingada|  MIDDLE RIVER|        SA|   South Australia|    5223|Australia|Australia|1957-09-17|1957|    9|  Tuesday|\n",
            "|       1042|  Male|  Aidan Pankhurst| TAWONGA SOUTH|       VIC|          Victoria|    3698|Australia|Australia|1965-11-19|1965|   11|   Friday|\n",
            "|       1086|  Male|     Hayden Clegg|      TEMPLERS|        SA|   South Australia|    5371|Australia|Australia|1954-01-20|1954|    1|Wednesday|\n",
            "|       1133|  Male|  Nicholas Caffyn|JUBILEE POCKET|       QLD|        Queensland|    4802|Australia|Australia|1969-11-22|1969|   11| Saturday|\n",
            "|       1256|  Male|    Lincoln Jenks|      KULLOGUM|       QLD|        Queensland|    4660|Australia|Australia|1950-03-12|1950|    3|   Sunday|\n",
            "|       1314|  Male|     Isaac Israel|   EDITH RIVER|        NT|Northern Territory|     852|Australia|Australia|1965-12-21|1965|   12|  Tuesday|\n",
            "|       1568|  Male|      Luke Virtue|         KOTTA|       VIC|          Victoria|    3565|Australia|Australia|1975-07-25|1975|    7|   Friday|\n",
            "|       1585|Female|   Anna Hallstrom|    GREEN LAKE|       VIC|          Victoria|    3401|Australia|Australia|1990-08-12|1990|    8|   Sunday|\n",
            "|       1626|Female|       Mary Leach|   NEDS CORNER|       VIC|          Victoria|    3496|Australia|Australia|1985-10-17|1985|   10| Thursday|\n",
            "|       1642|Female|     Ruby Ambrose|         TARLO|       NSW|   New South Wales|    2580|Australia|Australia|1965-03-03|1965|    3|Wednesday|\n",
            "|       1677|  Male|       Dean Innes|     ELLESMERE|       QLD|        Queensland|    4610|Australia|Australia|1964-11-22|1964|   11|   Sunday|\n",
            "|       1817|Female|Laura Le Rennetel|     BEAUCHAMP|       VIC|          Victoria|    3579|Australia|Australia|1986-07-10|1986|    7| Thursday|\n",
            "|       1863|Female|  Chelsea Watkins|    NAMBOUR DC|       QLD|        Queensland|    4560|Australia|Australia|1984-09-22|1984|    9| Saturday|\n",
            "|       1945|  Male|Angus Beaurepaire|   GREENFIELDS|        WA| Western Australia|    6210|Australia|Australia|1974-09-20|1974|    9|   Friday|\n",
            "|       2238|Female| Isabelle Cochran|     BRUCKNELL|       VIC|          Victoria|    3268|Australia|Australia|1969-10-31|1969|   10|   Friday|\n",
            "|       2248|  Male|      Rory Spargo|          JUNG|       VIC|          Victoria|    3401|Australia|Australia|1987-12-15|1987|   12|  Tuesday|\n",
            "|       2435|Female|      Lilian Hall|    BLAKEBROOK|       NSW|   New South Wales|    2480|Australia|Australia|1968-04-01|1968|    4|   Monday|\n",
            "+-----------+------+-----------------+--------------+----------+------------------+--------+---------+---------+----------+----+-----+---------+\n",
            "only showing top 20 rows\n",
            "\n"
          ]
        }
      ]
    },
    {
      "cell_type": "code",
      "source": [
        "customers_df.select('state').distinct().show()"
      ],
      "metadata": {
        "colab": {
          "base_uri": "https://localhost:8080/"
        },
        "id": "ubpctmEiNY5X",
        "outputId": "92c25ba2-0bda-44db-86c0-1758fa5217ca"
      },
      "execution_count": 59,
      "outputs": [
        {
          "output_type": "stream",
          "name": "stdout",
          "text": [
            "+--------------------+\n",
            "|               state|\n",
            "+--------------------+\n",
            "|             Palermo|\n",
            "|           Worcester|\n",
            "|                Utah|\n",
            "|           Charnwood|\n",
            "|      North Kesteven|\n",
            "|              Hawaii|\n",
            "|            Manitoba|\n",
            "|                Arun|\n",
            "|             Waveney|\n",
            "|             Firenze|\n",
            "|              Stroud|\n",
            "|    Pays de la Loire|\n",
            "| Nuneaton & Bedworth|\n",
            "|          New Forest|\n",
            "|           Newmarket|\n",
            "|     Haute-Normandie|\n",
            "|           Guildford|\n",
            "|           Minnesota|\n",
            "|              Matera|\n",
            "|Central Bedfordshire|\n",
            "+--------------------+\n",
            "only showing top 20 rows\n",
            "\n"
          ]
        }
      ]
    },
    {
      "cell_type": "code",
      "source": [
        "customers_df.select('state').distinct().count()"
      ],
      "metadata": {
        "colab": {
          "base_uri": "https://localhost:8080/"
        },
        "id": "TSlQBp5zpf0t",
        "outputId": "a378984d-8426-4263-d786-b0ac30d293ca"
      },
      "execution_count": 60,
      "outputs": [
        {
          "output_type": "execute_result",
          "data": {
            "text/plain": [
              "512"
            ]
          },
          "metadata": {},
          "execution_count": 60
        }
      ]
    },
    {
      "cell_type": "code",
      "source": [
        "customers_df.select('country').distinct().show()"
      ],
      "metadata": {
        "colab": {
          "base_uri": "https://localhost:8080/"
        },
        "id": "9wISZClbpqw8",
        "outputId": "523ac2df-ca74-4704-8862-e9b29c94b3e0"
      },
      "execution_count": 61,
      "outputs": [
        {
          "output_type": "stream",
          "name": "stdout",
          "text": [
            "+--------------+\n",
            "|       country|\n",
            "+--------------+\n",
            "|       Germany|\n",
            "|        France|\n",
            "| United States|\n",
            "|         Italy|\n",
            "|        Canada|\n",
            "|     Australia|\n",
            "|United Kingdom|\n",
            "|   Netherlands|\n",
            "+--------------+\n",
            "\n"
          ]
        }
      ]
    },
    {
      "cell_type": "code",
      "source": [
        "customers_df.select('year').distinct().orderBy('year').show()"
      ],
      "metadata": {
        "colab": {
          "base_uri": "https://localhost:8080/"
        },
        "id": "429IVRQxNjok",
        "outputId": "713dfcae-1e4b-4956-9d74-62af61006a5a"
      },
      "execution_count": 62,
      "outputs": [
        {
          "output_type": "stream",
          "name": "stdout",
          "text": [
            "+----+\n",
            "|year|\n",
            "+----+\n",
            "|1935|\n",
            "|1936|\n",
            "|1937|\n",
            "|1938|\n",
            "|1939|\n",
            "|1940|\n",
            "|1941|\n",
            "|1942|\n",
            "|1943|\n",
            "|1944|\n",
            "|1945|\n",
            "|1946|\n",
            "|1947|\n",
            "|1948|\n",
            "|1949|\n",
            "|1950|\n",
            "|1951|\n",
            "|1952|\n",
            "|1953|\n",
            "|1954|\n",
            "+----+\n",
            "only showing top 20 rows\n",
            "\n"
          ]
        }
      ]
    },
    {
      "cell_type": "code",
      "source": [
        "customers_df.select('year').distinct().orderBy('year', ascending=False).show()"
      ],
      "metadata": {
        "colab": {
          "base_uri": "https://localhost:8080/"
        },
        "id": "VB3ItiBdyw9n",
        "outputId": "1f60f69d-a978-4f23-c186-2608b82bf0f0"
      },
      "execution_count": 64,
      "outputs": [
        {
          "output_type": "stream",
          "name": "stdout",
          "text": [
            "+----+\n",
            "|year|\n",
            "+----+\n",
            "|2002|\n",
            "|2001|\n",
            "|2000|\n",
            "|1999|\n",
            "|1998|\n",
            "|1997|\n",
            "|1996|\n",
            "|1995|\n",
            "|1994|\n",
            "|1993|\n",
            "|1992|\n",
            "|1991|\n",
            "|1990|\n",
            "|1989|\n",
            "|1988|\n",
            "|1987|\n",
            "|1986|\n",
            "|1985|\n",
            "|1984|\n",
            "|1983|\n",
            "+----+\n",
            "only showing top 20 rows\n",
            "\n"
          ]
        }
      ]
    },
    {
      "cell_type": "code",
      "source": [
        "customers_df.groupBy('year').count().show()"
      ],
      "metadata": {
        "colab": {
          "base_uri": "https://localhost:8080/"
        },
        "id": "OAEw41aAON2t",
        "outputId": "9a137959-7c46-45c5-8caa-2e2bdbcf439d"
      },
      "execution_count": 65,
      "outputs": [
        {
          "output_type": "stream",
          "name": "stdout",
          "text": [
            "+----+-----+\n",
            "|year|count|\n",
            "+----+-----+\n",
            "|1959|  243|\n",
            "|1990|  221|\n",
            "|1975|  217|\n",
            "|1977|  247|\n",
            "|1974|  212|\n",
            "|1955|  235|\n",
            "|1978|  217|\n",
            "|1961|  251|\n",
            "|1942|  212|\n",
            "|1939|  212|\n",
            "|1944|  216|\n",
            "|1952|  212|\n",
            "|1956|  235|\n",
            "|1997|  218|\n",
            "|1988|  213|\n",
            "|1994|  219|\n",
            "|1968|  264|\n",
            "|1951|  241|\n",
            "|1938|  217|\n",
            "|1973|  222|\n",
            "+----+-----+\n",
            "only showing top 20 rows\n",
            "\n"
          ]
        }
      ]
    },
    {
      "cell_type": "code",
      "source": [
        "customers_df.groupBy('year','state').count().show(truncate=False)"
      ],
      "metadata": {
        "colab": {
          "base_uri": "https://localhost:8080/"
        },
        "id": "IAO7yRm4OcUW",
        "outputId": "43f83924-4ddc-44aa-8832-51469d869910"
      },
      "execution_count": 66,
      "outputs": [
        {
          "output_type": "stream",
          "name": "stdout",
          "text": [
            "+----+--------------------------+-----+\n",
            "|year|state                     |count|\n",
            "+----+--------------------------+-----+\n",
            "|1956|Queensland                |6    |\n",
            "|1956|Victoria                  |2    |\n",
            "|1944|Quebec                    |6    |\n",
            "|1952|Saskatchewan              |2    |\n",
            "|1995|Freistaat Th�ringen       |2    |\n",
            "|1959|Rheinland-Pfalz           |3    |\n",
            "|1975|Baden-W�rttemberg         |2    |\n",
            "|1984|Freistaat Th�ringen       |1    |\n",
            "|1993|Rheinland-Pfalz           |5    |\n",
            "|1990|Schleswig-Holstein        |2    |\n",
            "|1999|Rheinland-Pfalz           |2    |\n",
            "|1961|Hamburg                   |1    |\n",
            "|1982|Nordrhein-Westfalen       |1    |\n",
            "|1998|Niedersachsen             |1    |\n",
            "|1960|Provence-Alpes-C�te d'Azur|2    |\n",
            "|1941|Centre                    |1    |\n",
            "|1950|Nord-Pas-de-Calais        |1    |\n",
            "|1980|Novara                    |1    |\n",
            "|1955|Siena                     |2    |\n",
            "|1976|Napoli                    |1    |\n",
            "+----+--------------------------+-----+\n",
            "only showing top 20 rows\n",
            "\n"
          ]
        }
      ]
    },
    {
      "cell_type": "code",
      "source": [
        "spark.read.json(path='customers.json').show()"
      ],
      "metadata": {
        "colab": {
          "base_uri": "https://localhost:8080/"
        },
        "id": "UdWbfltbRcWF",
        "outputId": "1ac71438-9922-45f5-bd49-c1ad706d6bee"
      },
      "execution_count": 67,
      "outputs": [
        {
          "output_type": "stream",
          "name": "stdout",
          "text": [
            "+----------+--------------+---------+---------+------+-----------------+------------------+----------+--------+-----------+-----+---------+----+\n",
            "|  Birthday|          City|Continent|  Country|Gender|             Name|             State|State Code|Zip Code|customer_id|month|week_name|year|\n",
            "+----------+--------------+---------+---------+------+-----------------+------------------+----------+--------+-----------+-----+---------+----+\n",
            "|1939-07-03|WANDEARAH EAST|Australia|Australia|Female|    Lilly Harding|   South Australia|        SA|    5523|        301|    7|   Monday|1939|\n",
            "|1979-09-27|    MOUNT BUDD|Australia|Australia|Female|     Madison Hull| Western Australia|        WA|    6522|        325|    9| Thursday|1979|\n",
            "|1947-05-26|     WINJALLOK|Australia|Australia|Female|    Claire Ferres|          Victoria|       VIC|    3380|        554|    5|   Monday|1947|\n",
            "|1957-09-17|  MIDDLE RIVER|Australia|Australia|  Male|Jai Poltpalingada|   South Australia|        SA|    5223|        786|    9|  Tuesday|1957|\n",
            "|1965-11-19| TAWONGA SOUTH|Australia|Australia|  Male|  Aidan Pankhurst|          Victoria|       VIC|    3698|       1042|   11|   Friday|1965|\n",
            "|1954-01-20|      TEMPLERS|Australia|Australia|  Male|     Hayden Clegg|   South Australia|        SA|    5371|       1086|    1|Wednesday|1954|\n",
            "|1969-11-22|JUBILEE POCKET|Australia|Australia|  Male|  Nicholas Caffyn|        Queensland|       QLD|    4802|       1133|   11| Saturday|1969|\n",
            "|1950-03-12|      KULLOGUM|Australia|Australia|  Male|    Lincoln Jenks|        Queensland|       QLD|    4660|       1256|    3|   Sunday|1950|\n",
            "|1965-12-21|   EDITH RIVER|Australia|Australia|  Male|     Isaac Israel|Northern Territory|        NT|     852|       1314|   12|  Tuesday|1965|\n",
            "|1975-07-25|         KOTTA|Australia|Australia|  Male|      Luke Virtue|          Victoria|       VIC|    3565|       1568|    7|   Friday|1975|\n",
            "|1990-08-12|    GREEN LAKE|Australia|Australia|Female|   Anna Hallstrom|          Victoria|       VIC|    3401|       1585|    8|   Sunday|1990|\n",
            "|1985-10-17|   NEDS CORNER|Australia|Australia|Female|       Mary Leach|          Victoria|       VIC|    3496|       1626|   10| Thursday|1985|\n",
            "|1965-03-03|         TARLO|Australia|Australia|Female|     Ruby Ambrose|   New South Wales|       NSW|    2580|       1642|    3|Wednesday|1965|\n",
            "|1964-11-22|     ELLESMERE|Australia|Australia|  Male|       Dean Innes|        Queensland|       QLD|    4610|       1677|   11|   Sunday|1964|\n",
            "|1986-07-10|     BEAUCHAMP|Australia|Australia|Female|Laura Le Rennetel|          Victoria|       VIC|    3579|       1817|    7| Thursday|1986|\n",
            "|1984-09-22|    NAMBOUR DC|Australia|Australia|Female|  Chelsea Watkins|        Queensland|       QLD|    4560|       1863|    9| Saturday|1984|\n",
            "|1974-09-20|   GREENFIELDS|Australia|Australia|  Male|Angus Beaurepaire| Western Australia|        WA|    6210|       1945|    9|   Friday|1974|\n",
            "|1969-10-31|     BRUCKNELL|Australia|Australia|Female| Isabelle Cochran|          Victoria|       VIC|    3268|       2238|   10|   Friday|1969|\n",
            "|1987-12-15|          JUNG|Australia|Australia|  Male|      Rory Spargo|          Victoria|       VIC|    3401|       2248|   12|  Tuesday|1987|\n",
            "|1968-04-01|    BLAKEBROOK|Australia|Australia|Female|      Lilian Hall|   New South Wales|       NSW|    2480|       2435|    4|   Monday|1968|\n",
            "+----------+--------------+---------+---------+------+-----------------+------------------+----------+--------+-----------+-----+---------+----+\n",
            "only showing top 20 rows\n",
            "\n"
          ]
        }
      ]
    },
    {
      "cell_type": "code",
      "source": [
        "schema=\"\"\"customer_id string,\n",
        "    Gender string,\n",
        "    Name string,\n",
        "    City string,\n",
        "    `State Code` string,\n",
        "    State string,\n",
        "    `Zip Code` string,\n",
        "    Country string,\n",
        "    Continent string,\n",
        "    Birthday string\n",
        "\"\"\""
      ],
      "metadata": {
        "id": "ydongFZpQnLO"
      },
      "execution_count": 68,
      "outputs": []
    },
    {
      "cell_type": "code",
      "source": [
        "customers_json_df=spark.read.json(path='customers.json',schema=schema)"
      ],
      "metadata": {
        "id": "3GJ8u2ZvStlD"
      },
      "execution_count": 70,
      "outputs": []
    },
    {
      "cell_type": "code",
      "source": [
        "customers_json_df.withColumnsRenamed({'State Code':'State_Code','Zip Code':'zip_code'}).show()"
      ],
      "metadata": {
        "colab": {
          "base_uri": "https://localhost:8080/"
        },
        "id": "dk6QZNfCS8mK",
        "outputId": "fb74eead-c9d1-4d42-9b7f-fdd1eb8790ee"
      },
      "execution_count": 71,
      "outputs": [
        {
          "output_type": "stream",
          "name": "stdout",
          "text": [
            "+-----------+------+-----------------+--------------+----------+------------------+--------+---------+---------+----------+\n",
            "|customer_id|Gender|             Name|          City|State_Code|             State|zip_code|  Country|Continent|  Birthday|\n",
            "+-----------+------+-----------------+--------------+----------+------------------+--------+---------+---------+----------+\n",
            "|        301|Female|    Lilly Harding|WANDEARAH EAST|        SA|   South Australia|    5523|Australia|Australia|1939-07-03|\n",
            "|        325|Female|     Madison Hull|    MOUNT BUDD|        WA| Western Australia|    6522|Australia|Australia|1979-09-27|\n",
            "|        554|Female|    Claire Ferres|     WINJALLOK|       VIC|          Victoria|    3380|Australia|Australia|1947-05-26|\n",
            "|        786|  Male|Jai Poltpalingada|  MIDDLE RIVER|        SA|   South Australia|    5223|Australia|Australia|1957-09-17|\n",
            "|       1042|  Male|  Aidan Pankhurst| TAWONGA SOUTH|       VIC|          Victoria|    3698|Australia|Australia|1965-11-19|\n",
            "|       1086|  Male|     Hayden Clegg|      TEMPLERS|        SA|   South Australia|    5371|Australia|Australia|1954-01-20|\n",
            "|       1133|  Male|  Nicholas Caffyn|JUBILEE POCKET|       QLD|        Queensland|    4802|Australia|Australia|1969-11-22|\n",
            "|       1256|  Male|    Lincoln Jenks|      KULLOGUM|       QLD|        Queensland|    4660|Australia|Australia|1950-03-12|\n",
            "|       1314|  Male|     Isaac Israel|   EDITH RIVER|        NT|Northern Territory|     852|Australia|Australia|1965-12-21|\n",
            "|       1568|  Male|      Luke Virtue|         KOTTA|       VIC|          Victoria|    3565|Australia|Australia|1975-07-25|\n",
            "|       1585|Female|   Anna Hallstrom|    GREEN LAKE|       VIC|          Victoria|    3401|Australia|Australia|1990-08-12|\n",
            "|       1626|Female|       Mary Leach|   NEDS CORNER|       VIC|          Victoria|    3496|Australia|Australia|1985-10-17|\n",
            "|       1642|Female|     Ruby Ambrose|         TARLO|       NSW|   New South Wales|    2580|Australia|Australia|1965-03-03|\n",
            "|       1677|  Male|       Dean Innes|     ELLESMERE|       QLD|        Queensland|    4610|Australia|Australia|1964-11-22|\n",
            "|       1817|Female|Laura Le Rennetel|     BEAUCHAMP|       VIC|          Victoria|    3579|Australia|Australia|1986-07-10|\n",
            "|       1863|Female|  Chelsea Watkins|    NAMBOUR DC|       QLD|        Queensland|    4560|Australia|Australia|1984-09-22|\n",
            "|       1945|  Male|Angus Beaurepaire|   GREENFIELDS|        WA| Western Australia|    6210|Australia|Australia|1974-09-20|\n",
            "|       2238|Female| Isabelle Cochran|     BRUCKNELL|       VIC|          Victoria|    3268|Australia|Australia|1969-10-31|\n",
            "|       2248|  Male|      Rory Spargo|          JUNG|       VIC|          Victoria|    3401|Australia|Australia|1987-12-15|\n",
            "|       2435|Female|      Lilian Hall|    BLAKEBROOK|       NSW|   New South Wales|    2480|Australia|Australia|1968-04-01|\n",
            "+-----------+------+-----------------+--------------+----------+------------------+--------+---------+---------+----------+\n",
            "only showing top 20 rows\n",
            "\n"
          ]
        }
      ]
    },
    {
      "cell_type": "code",
      "source": [],
      "metadata": {
        "id": "l8EWsjVTUJNv"
      },
      "execution_count": null,
      "outputs": []
    }
  ]
}