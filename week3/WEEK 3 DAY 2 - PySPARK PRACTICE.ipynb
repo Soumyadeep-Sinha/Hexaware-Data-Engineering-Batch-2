{
 "cells": [
  {
   "cell_type": "code",
   "execution_count": 1,
   "metadata": {
    "id": "JwPJzgMgTprZ"
   },
   "outputs": [],
   "source": [
    "# Import SparkContext from PySpark\n",
    "from pyspark.context import SparkContext\n",
    "\n",
    "# Create a SparkContext with an application name\n",
    "sc = SparkContext(appName=\"Spark-RDD\")"
   ]
  },
  {
   "cell_type": "code",
   "execution_count": 2,
   "metadata": {
    "colab": {
     "base_uri": "https://localhost:8080/"
    },
    "id": "cIewFKNdUfQU",
    "outputId": "5ce6eb2b-49fc-4519-db27-55161d88d801"
   },
   "outputs": [
    {
     "data": {
      "text/plain": [
       "('3.5.3', '3.10')"
      ]
     },
     "execution_count": 2,
     "metadata": {},
     "output_type": "execute_result"
    }
   ],
   "source": [
    "# Display the version of Spark and Python\n",
    "sc.version,sc.pythonVer"
   ]
  },
  {
   "cell_type": "code",
   "execution_count": 3,
   "metadata": {
    "colab": {
     "base_uri": "https://localhost:8080/"
    },
    "id": "2CvVkZUvYYHK",
    "outputId": "20f3c1a9-f97a-4a03-bd15-4ea00de9a003"
   },
   "outputs": [
    {
     "data": {
      "text/plain": [
       "('Spark-RDD', 'local-1731481099203')"
      ]
     },
     "execution_count": 3,
     "metadata": {},
     "output_type": "execute_result"
    }
   ],
   "source": [
    "# Display the application name and application ID\n",
    "sc.appName,sc.applicationId"
   ]
  },
  {
   "cell_type": "code",
   "execution_count": 4,
   "metadata": {
    "colab": {
     "base_uri": "https://localhost:8080/"
    },
    "id": "xvWFEV1YZ3Bv",
    "outputId": "654d25bb-10d9-4dd3-8bbd-5c4269c3778c"
   },
   "outputs": [
    {
     "data": {
      "text/plain": [
       "2"
      ]
     },
     "execution_count": 4,
     "metadata": {},
     "output_type": "execute_result"
    }
   ],
   "source": [
    "# Check the default number of parallel tasks (partitions)\n",
    "sc.defaultParallelism"
   ]
  },
  {
   "cell_type": "code",
   "execution_count": 6,
   "metadata": {
    "id": "c26JC-LqgQPC"
   },
   "outputs": [],
   "source": [
    "# Create an RDD with integers 1 through 6, divided into two partitions\n",
    "rdd1=sc.parallelize([1,2,3,4,5,6])"
   ]
  },
  {
   "cell_type": "code",
   "execution_count": 7,
   "metadata": {
    "colab": {
     "base_uri": "https://localhost:8080/"
    },
    "id": "wm82bxNHgqS6",
    "outputId": "daa115b1-5b07-4a0c-bbf1-a73bf01e7713"
   },
   "outputs": [
    {
     "data": {
      "text/plain": [
       "[1, 2, 3, 4, 5, 6]"
      ]
     },
     "execution_count": 7,
     "metadata": {},
     "output_type": "execute_result"
    }
   ],
   "source": [
    "rdd1.collect()"
   ]
  },
  {
   "cell_type": "code",
   "execution_count": 8,
   "metadata": {
    "colab": {
     "base_uri": "https://localhost:8080/"
    },
    "id": "oUzyoOaZgu8q",
    "outputId": "98cb623f-4b37-48ce-c026-c46507fb034a"
   },
   "outputs": [
    {
     "data": {
      "text/plain": [
       "2"
      ]
     },
     "execution_count": 8,
     "metadata": {},
     "output_type": "execute_result"
    }
   ],
   "source": [
    "rdd1.getNumPartitions()"
   ]
  },
  {
   "cell_type": "code",
   "execution_count": 9,
   "metadata": {
    "colab": {
     "base_uri": "https://localhost:8080/"
    },
    "id": "SCbDhE4NhS4a",
    "outputId": "95860cd0-3a4e-4663-f2bf-36479e9cb86e"
   },
   "outputs": [
    {
     "name": "stdout",
     "output_type": "stream",
     "text": [
      " Min value :1\n",
      " Max Value : 6 \n",
      " sum of values :21\n",
      " mean of value :3.5\n"
     ]
    }
   ],
   "source": [
    "# Print min, max, sum, and mean of values in rdd1\n",
    "print(f' Min value :{rdd1.min()}\\n Max Value : {rdd1.max()} \\n sum of values :{rdd1.sum()}\\n mean of value :{rdd1.mean()}')"
   ]
  },
  {
   "cell_type": "code",
   "execution_count": 10,
   "metadata": {
    "id": "UpVLnIp4iNiq"
   },
   "outputs": [],
   "source": [
    "# Define a lambda function to square each element\n",
    "square =lambda x:(x,x**2)"
   ]
  },
  {
   "cell_type": "code",
   "execution_count": 11,
   "metadata": {
    "id": "uu6GaK4KiPZw"
   },
   "outputs": [],
   "source": [
    "# Apply map transformation to rdd1 to create a new RDD with tuples (value, value^2)\n",
    "rdd2=rdd1.map(square)"
   ]
  },
  {
   "cell_type": "code",
   "execution_count": 12,
   "metadata": {
    "colab": {
     "base_uri": "https://localhost:8080/"
    },
    "id": "xSXMjLxaiRqB",
    "outputId": "dc1173f9-9221-4dc3-903e-5a9610dee9c2"
   },
   "outputs": [
    {
     "data": {
      "text/plain": [
       "[(1, 1), (2, 4), (3, 9), (4, 16), (5, 25), (6, 36)]"
      ]
     },
     "execution_count": 12,
     "metadata": {},
     "output_type": "execute_result"
    }
   ],
   "source": [
    "rdd2.collect()"
   ]
  },
  {
   "cell_type": "code",
   "execution_count": 13,
   "metadata": {
    "colab": {
     "base_uri": "https://localhost:8080/"
    },
    "id": "TV510SqQiYXA",
    "outputId": "88384552-1878-4ed8-f898-da833d1e2da8"
   },
   "outputs": [
    {
     "data": {
      "text/plain": [
       "[1, 1, 2, 4, 3, 9, 4, 16, 5, 25, 6, 36]"
      ]
     },
     "execution_count": 13,
     "metadata": {},
     "output_type": "execute_result"
    }
   ],
   "source": [
    "# Apply flatMap transformation to rdd2, which flattens the tuples into individual values\n",
    "rdd3=rdd2.flatMap(lambda x:x)\n",
    "rdd3.collect()"
   ]
  },
  {
   "cell_type": "code",
   "execution_count": 14,
   "metadata": {
    "colab": {
     "base_uri": "https://localhost:8080/"
    },
    "id": "D9CzJBcrjJ1A",
    "outputId": "659dd4e2-20b5-4454-ae91-2f2bd6a0aa89"
   },
   "outputs": [
    {
     "data": {
      "text/plain": [
       "[2, 4, 16, 6, 36, 1, 3, 9, 5, 25]"
      ]
     },
     "execution_count": 14,
     "metadata": {},
     "output_type": "execute_result"
    }
   ],
   "source": [
    "# Get distinct values from rdd3\n",
    "rdd3.distinct().collect()"
   ]
  },
  {
   "cell_type": "code",
   "execution_count": 16,
   "metadata": {
    "colab": {
     "base_uri": "https://localhost:8080/"
    },
    "id": "U2I6TvxrocJs",
    "outputId": "06641368-7883-4006-92e1-b3181ee9d0a9"
   },
   "outputs": [
    {
     "data": {
      "text/plain": [
       "[2, 4, 4, 16, 6, 36]"
      ]
     },
     "execution_count": 16,
     "metadata": {},
     "output_type": "execute_result"
    }
   ],
   "source": [
    "even_value=lambda x:x%2==0\n",
    "# Filter rdd3 to keep only even numbers\n",
    "rdd3.filter(even_value).collect()"
   ]
  },
  {
   "cell_type": "code",
   "execution_count": 17,
   "metadata": {
    "colab": {
     "base_uri": "https://localhost:8080/"
    },
    "id": "I2QWCorQpO6T",
    "outputId": "3f337473-4289-42a3-8f88-590306c74feb"
   },
   "outputs": [
    {
     "data": {
      "text/plain": [
       "[16, 36]"
      ]
     },
     "execution_count": 17,
     "metadata": {},
     "output_type": "execute_result"
    }
   ],
   "source": [
    "rdd3.filter(lambda x:x%2==0 and x>10).collect()"
   ]
  },
  {
   "cell_type": "code",
   "execution_count": 18,
   "metadata": {
    "colab": {
     "base_uri": "https://localhost:8080/"
    },
    "id": "D0uGSHWap6dz",
    "outputId": "c09ec8ff-2932-4b91-8d8a-0383822b26a7"
   },
   "outputs": [
    {
     "data": {
      "text/plain": [
       "2"
      ]
     },
     "execution_count": 18,
     "metadata": {},
     "output_type": "execute_result"
    }
   ],
   "source": [
    "rdd3.getNumPartitions()"
   ]
  },
  {
   "cell_type": "code",
   "execution_count": 19,
   "metadata": {
    "colab": {
     "base_uri": "https://localhost:8080/"
    },
    "id": "xI38K_R-p-rC",
    "outputId": "1c8b943e-a38e-4f98-9a1c-fd95923fca34"
   },
   "outputs": [
    {
     "data": {
      "text/plain": [
       "[[1, 1, 2, 4, 3, 9], [4, 16, 5, 25, 6, 36]]"
      ]
     },
     "execution_count": 19,
     "metadata": {},
     "output_type": "execute_result"
    }
   ],
   "source": [
    "# Use glom() to group data in each partition into a list\n",
    "rdd3.glom().collect()"
   ]
  },
  {
   "cell_type": "code",
   "execution_count": 20,
   "metadata": {
    "id": "mScvKZqPqm77"
   },
   "outputs": [],
   "source": [
    "indian_cars = [\n",
    "    \"Maruti Suzuki Alto\", \"Tata Tiago\", \"Hyundai i10\", \"Renault Kwid\", \"Maruti Suzuki Swift\",\n",
    "    \"Honda City\", \"Maruti Suzuki Ciaz\", \"Hyundai Verna\", \"Tata Tigor\", \"Skoda Slavia\",\n",
    "    \"Mahindra Scorpio\", \"Tata Harrier\", \"Maruti Suzuki Brezza\", \"Hyundai Creta\", \"Kia Seltos\"\n",
    "]"
   ]
  },
  {
   "cell_type": "code",
   "execution_count": 21,
   "metadata": {
    "id": "KFGgUgo2rTeR"
   },
   "outputs": [],
   "source": [
    "# Parallelize the car list into an RDD with 4 partitions\n",
    "indian_cars_rdd=sc.parallelize(indian_cars,4)"
   ]
  },
  {
   "cell_type": "code",
   "execution_count": 22,
   "metadata": {
    "colab": {
     "base_uri": "https://localhost:8080/"
    },
    "id": "QlgHkm19rXaS",
    "outputId": "aa7572d1-6ab9-4a86-d01e-c4c60d6005d6"
   },
   "outputs": [
    {
     "data": {
      "text/plain": [
       "4"
      ]
     },
     "execution_count": 22,
     "metadata": {},
     "output_type": "execute_result"
    }
   ],
   "source": [
    "indian_cars_rdd.getNumPartitions()"
   ]
  },
  {
   "cell_type": "code",
   "execution_count": 23,
   "metadata": {
    "colab": {
     "base_uri": "https://localhost:8080/"
    },
    "id": "4wxiAJ5UrayJ",
    "outputId": "3382a972-46ee-4202-d46c-0a1b1ec9cf96"
   },
   "outputs": [
    {
     "name": "stdout",
     "output_type": "stream",
     "text": [
      "['Maruti Suzuki Alto', 'Tata Tiago', 'Hyundai i10']\n",
      "['Renault Kwid', 'Maruti Suzuki Swift', 'Honda City']\n",
      "['Maruti Suzuki Ciaz', 'Hyundai Verna', 'Tata Tigor']\n",
      "['Skoda Slavia', 'Mahindra Scorpio', 'Tata Harrier', 'Maruti Suzuki Brezza', 'Hyundai Creta', 'Kia Seltos']\n"
     ]
    }
   ],
   "source": [
    "# Use glom() to view the data in each partition\n",
    "for i in indian_cars_rdd.glom().collect():\n",
    "    print(i)"
   ]
  },
  {
   "cell_type": "code",
   "execution_count": 24,
   "metadata": {
    "id": "EprZWKVgrcTR"
   },
   "outputs": [],
   "source": [
    "# Repartition the RDD into 6 partitions\n",
    "indian_cars_rdd1=indian_cars_rdd.repartition(6)"
   ]
  },
  {
   "cell_type": "code",
   "execution_count": 25,
   "metadata": {
    "colab": {
     "base_uri": "https://localhost:8080/"
    },
    "id": "VT10YUE2rztY",
    "outputId": "90ae5497-2b10-4712-dc56-df2e081a1505"
   },
   "outputs": [
    {
     "data": {
      "text/plain": [
       "6"
      ]
     },
     "execution_count": 25,
     "metadata": {},
     "output_type": "execute_result"
    }
   ],
   "source": [
    "indian_cars_rdd1.getNumPartitions()"
   ]
  },
  {
   "cell_type": "code",
   "execution_count": 26,
   "metadata": {
    "colab": {
     "base_uri": "https://localhost:8080/"
    },
    "id": "4xGE7VhVr3Qw",
    "outputId": "7efd8680-8f80-44d2-da43-3775810c8749"
   },
   "outputs": [
    {
     "name": "stdout",
     "output_type": "stream",
     "text": [
      "['Skoda Slavia', 'Mahindra Scorpio', 'Tata Harrier', 'Maruti Suzuki Brezza', 'Hyundai Creta', 'Kia Seltos']\n",
      "[]\n",
      "[]\n",
      "['Maruti Suzuki Alto', 'Tata Tiago', 'Hyundai i10']\n",
      "['Renault Kwid', 'Maruti Suzuki Swift', 'Honda City']\n",
      "['Maruti Suzuki Ciaz', 'Hyundai Verna', 'Tata Tigor']\n"
     ]
    }
   ],
   "source": [
    "# View data in each partition after repartitioning\n",
    "for i in indian_cars_rdd1.glom().collect():\n",
    "    print(i)"
   ]
  },
  {
   "cell_type": "code",
   "execution_count": 27,
   "metadata": {
    "colab": {
     "base_uri": "https://localhost:8080/"
    },
    "id": "BFQ9vpNcr64Y",
    "outputId": "ef90b5cb-90c7-45a8-98b5-26a6c24d8b0f"
   },
   "outputs": [
    {
     "data": {
      "text/plain": [
       "[['Maruti Suzuki Alto',\n",
       "  'Tata Tiago',\n",
       "  'Hyundai i10',\n",
       "  'Skoda Slavia',\n",
       "  'Mahindra Scorpio',\n",
       "  'Tata Harrier',\n",
       "  'Maruti Suzuki Brezza',\n",
       "  'Hyundai Creta',\n",
       "  'Kia Seltos'],\n",
       " ['Renault Kwid', 'Maruti Suzuki Swift', 'Honda City'],\n",
       " ['Maruti Suzuki Ciaz', 'Hyundai Verna', 'Tata Tigor']]"
      ]
     },
     "execution_count": 27,
     "metadata": {},
     "output_type": "execute_result"
    }
   ],
   "source": [
    "# Repartition the RDD into 3 partitions and view the result using glom()\n",
    "indian_cars_rdd.repartition(3).glom().collect()"
   ]
  },
  {
   "cell_type": "code",
   "execution_count": 28,
   "metadata": {
    "colab": {
     "base_uri": "https://localhost:8080/"
    },
    "id": "kZQxA7JEsAEY",
    "outputId": "d3ea9391-23ac-44ab-ca53-8a6dc0408c0a"
   },
   "outputs": [
    {
     "data": {
      "text/plain": [
       "[1, 1, 2, 4, 3, 9, 4, 16, 5, 25, 6, 36]"
      ]
     },
     "execution_count": 28,
     "metadata": {},
     "output_type": "execute_result"
    }
   ],
   "source": [
    "rdd3.collect()"
   ]
  },
  {
   "cell_type": "code",
   "execution_count": 29,
   "metadata": {
    "colab": {
     "base_uri": "https://localhost:8080/"
    },
    "id": "Ks-kLYVys1nA",
    "outputId": "fac6e4be-b04f-4fe0-fc11-a659f8108bbc"
   },
   "outputs": [
    {
     "name": "stdout",
     "output_type": "stream",
     "text": [
      "<class 'int'> 112\n"
     ]
    }
   ],
   "source": [
    "# Perform a reduce operation on rdd3 to sum all the elements\n",
    "result = rdd3.reduce(lambda a, b: a + b)\n",
    "print(type(result),result)"
   ]
  },
  {
   "cell_type": "code",
   "execution_count": 30,
   "metadata": {
    "id": "CEOSWWtHubUn"
   },
   "outputs": [],
   "source": [
    "# Creating a key-value RDD\n",
    "pairs_rdd = sc.parallelize([(\"Maruti Suzuki Alto\", 3), (\"Hyundai i10\", 1), (\"Hyundai i10\", 2), (\"Tata Harrier\", 2),(\"Maruti Suzuki Alto\", 10),(\"Hyundai i10\", 15)])"
   ]
  },
  {
   "cell_type": "code",
   "execution_count": 31,
   "metadata": {
    "colab": {
     "base_uri": "https://localhost:8080/"
    },
    "id": "EQ8ZNATAueqv",
    "outputId": "b82db3f5-93e4-43ea-e94f-d86801d13f43"
   },
   "outputs": [
    {
     "name": "stdout",
     "output_type": "stream",
     "text": [
      "<class 'pyspark.rdd.PipelinedRDD'> [('Tata Harrier', 2), ('Maruti Suzuki Alto', 13), ('Hyundai i10', 18)]\n"
     ]
    }
   ],
   "source": [
    "# Reduce by key to sum values for each key\n",
    "reduceByKey = pairs_rdd.reduceByKey(lambda a, b: a + b)\n",
    "print(type(reduceByKey),reduceByKey.collect())"
   ]
  },
  {
   "cell_type": "code",
   "execution_count": 32,
   "metadata": {
    "colab": {
     "base_uri": "https://localhost:8080/"
    },
    "id": "hzfsqaSdu4yO",
    "outputId": "0883e420-a57b-48fc-ca57-e9dfd51170a5"
   },
   "outputs": [
    {
     "name": "stdout",
     "output_type": "stream",
     "text": [
      "<class 'pyspark.rdd.PipelinedRDD'> [('Tata Harrier', [2]), ('Maruti Suzuki Alto', [3, 10]), ('Hyundai i10', [1, 2, 15])]\n"
     ]
    }
   ],
   "source": [
    "# Group by key\n",
    "grouped = pairs_rdd.groupByKey().mapValues(list)\n",
    "print(type(grouped),grouped.collect())"
   ]
  },
  {
   "cell_type": "code",
   "execution_count": 33,
   "metadata": {
    "colab": {
     "base_uri": "https://localhost:8080/"
    },
    "id": "K4D7bOHAwlaF",
    "outputId": "4b766dea-a3be-466d-c098-873bfaad61ef"
   },
   "outputs": [
    {
     "name": "stdout",
     "output_type": "stream",
     "text": [
      "dict_items([('NY', 'New york'), ('CA', 'California'), ('FL', 'Florida')])\n",
      "dict_keys(['NY', 'CA', 'FL'])\n"
     ]
    }
   ],
   "source": [
    "states = {\"NY\":\"New york\", \"CA\":\"California\", \"FL\":\"Florida\"}\n",
    "print(states.items())\n",
    "print(states.keys())"
   ]
  },
  {
   "cell_type": "code",
   "execution_count": 34,
   "metadata": {
    "colab": {
     "base_uri": "https://localhost:8080/"
    },
    "id": "G3VjZ4kYwqxe",
    "outputId": "3cc004b6-6a12-4db4-b49c-8d2150880b0b"
   },
   "outputs": [
    {
     "name": "stdout",
     "output_type": "stream",
     "text": [
      "[('NY', 'New york'), ('CA', 'California'), ('FL', 'Florida')] <class 'list'>\n"
     ]
    }
   ],
   "source": [
    "# Parallelize the dictionary into an RDD\n",
    "states_rdd = sc.parallelize(states.items())\n",
    "print(states_rdd.collect(),type(states_rdd.collect()))"
   ]
  },
  {
   "cell_type": "code",
   "execution_count": 35,
   "metadata": {
    "id": "JfSG7K1KwxMF"
   },
   "outputs": [],
   "source": [
    "data = [(\"James\",\"Smith\",\"USA\",\"CA\"),\n",
    "    (\"Michael\",\"Rose\",\"USA\",\"NY\"),\n",
    "    (\"Robert\",\"Williams\",\"USA\",\"CA\"),\n",
    "    (\"Maria\",\"Jones\",\"USA\",\"FL\")\n",
    "  ]\n",
    "data_rdd = sc.parallelize(data)"
   ]
  },
  {
   "cell_type": "code",
   "execution_count": 36,
   "metadata": {
    "colab": {
     "base_uri": "https://localhost:8080/"
    },
    "id": "yTMiQAtayF3E",
    "outputId": "e8b9545e-c93c-40bd-d696-8ec5b598dfde"
   },
   "outputs": [
    {
     "data": {
      "text/plain": [
       "[('James', 'Smith', 'USA', 'CA'),\n",
       " ('Michael', 'Rose', 'USA', 'NY'),\n",
       " ('Robert', 'Williams', 'USA', 'CA'),\n",
       " ('Maria', 'Jones', 'USA', 'FL')]"
      ]
     },
     "execution_count": 36,
     "metadata": {},
     "output_type": "execute_result"
    }
   ],
   "source": [
    "data_rdd.collect()"
   ]
  },
  {
   "cell_type": "code",
   "execution_count": 37,
   "metadata": {
    "colab": {
     "base_uri": "https://localhost:8080/"
    },
    "id": "LYppjUR4yNtc",
    "outputId": "3a7cf193-a698-40af-f72f-3a7af5fdddf0"
   },
   "outputs": [
    {
     "data": {
      "text/plain": [
       "[('CA', ('James', 'Smith', 'USA', 'CA')),\n",
       " ('NY', ('Michael', 'Rose', 'USA', 'NY')),\n",
       " ('CA', ('Robert', 'Williams', 'USA', 'CA')),\n",
       " ('FL', ('Maria', 'Jones', 'USA', 'FL'))]"
      ]
     },
     "execution_count": 37,
     "metadata": {},
     "output_type": "execute_result"
    }
   ],
   "source": [
    "# Map the RDD to create a key-value RDD where the state code is the key\n",
    "rdd_keyed = data_rdd.map(lambda x: (x[3], x))\n",
    "rdd_keyed.collect()"
   ]
  },
  {
   "cell_type": "code",
   "execution_count": 39,
   "metadata": {
    "id": "3lSqUevgzKDL"
   },
   "outputs": [],
   "source": [
    "# Perform a join operation with states_rdd to add state names\n",
    "joined_rdd = rdd_keyed.join(states_rdd)"
   ]
  },
  {
   "cell_type": "code",
   "execution_count": 40,
   "metadata": {
    "colab": {
     "base_uri": "https://localhost:8080/"
    },
    "id": "9ZvQr-Vh1WKK",
    "outputId": "37d8aefe-05df-413a-97f3-5f63aec851b3"
   },
   "outputs": [
    {
     "data": {
      "text/plain": [
       "[('CA', (('James', 'Smith', 'USA', 'CA'), 'California')),\n",
       " ('CA', (('Robert', 'Williams', 'USA', 'CA'), 'California')),\n",
       " ('NY', (('Michael', 'Rose', 'USA', 'NY'), 'New york')),\n",
       " ('FL', (('Maria', 'Jones', 'USA', 'FL'), 'Florida'))]"
      ]
     },
     "execution_count": 40,
     "metadata": {},
     "output_type": "execute_result"
    }
   ],
   "source": [
    "joined_rdd.collect()"
   ]
  },
  {
   "cell_type": "code",
   "execution_count": 41,
   "metadata": {
    "colab": {
     "base_uri": "https://localhost:8080/"
    },
    "id": "B4tKD8zO1aip",
    "outputId": "9bdf134b-01a2-41c9-bcb7-5ad5a5fe8237"
   },
   "outputs": [
    {
     "data": {
      "text/plain": [
       "[('James', 'Smith', 'USA', 'California'),\n",
       " ('Robert', 'Williams', 'USA', 'California'),\n",
       " ('Michael', 'Rose', 'USA', 'New york'),\n",
       " ('Maria', 'Jones', 'USA', 'Florida')]"
      ]
     },
     "execution_count": 41,
     "metadata": {},
     "output_type": "execute_result"
    }
   ],
   "source": [
    "joined_rdd.map(lambda x: (*x[1][0][:-1],x[1][1])).collect()"
   ]
  },
  {
   "cell_type": "code",
   "execution_count": 42,
   "metadata": {
    "id": "p1TuqmMX36cA"
   },
   "outputs": [],
   "source": [
    "# Broadcast the states dictionary to optimize lookup during transformations\n",
    "broadcastStates = sc.broadcast(states)\n",
    "# Create a function that retrieves the full state name based on the state code\n",
    "def state_convert(code):\n",
    "    return broadcastStates.value[code]\n",
    "\n",
    "# Map the data_rdd to replace the state code with the full state name\n",
    "result = data_rdd.map(lambda x: (*x[:2],state_convert(x[3])))"
   ]
  },
  {
   "cell_type": "code",
   "execution_count": 43,
   "metadata": {
    "colab": {
     "base_uri": "https://localhost:8080/"
    },
    "id": "hE8DPne64huJ",
    "outputId": "cff93d74-c5ca-48fc-c14a-5d46a9d93129"
   },
   "outputs": [
    {
     "data": {
      "text/plain": [
       "[('James', 'Smith', 'California'),\n",
       " ('Michael', 'Rose', 'New york'),\n",
       " ('Robert', 'Williams', 'California'),\n",
       " ('Maria', 'Jones', 'Florida')]"
      ]
     },
     "execution_count": 43,
     "metadata": {},
     "output_type": "execute_result"
    }
   ],
   "source": [
    "result.collect()"
   ]
  },
  {
   "cell_type": "code",
   "execution_count": 44,
   "metadata": {
    "id": "ltt6LKgg5XMu"
   },
   "outputs": [],
   "source": [
    "# To convert the RDD into a DataFrame, we first need to initialize a SparkSession\n",
    "from pyspark.sql import SparkSession\n",
    "spark= SparkSession.builder.getOrCreate()"
   ]
  },
  {
   "cell_type": "code",
   "execution_count": 45,
   "metadata": {
    "colab": {
     "base_uri": "https://localhost:8080/"
    },
    "id": "W23CrKfk5z4-",
    "outputId": "d04ed5c6-8531-4d18-84da-b76862a346ff"
   },
   "outputs": [
    {
     "data": {
      "text/plain": [
       "('local-1731481099203', 'local-1731481099203')"
      ]
     },
     "execution_count": 45,
     "metadata": {},
     "output_type": "execute_result"
    }
   ],
   "source": [
    "sc.applicationId,spark.sparkContext.applicationId"
   ]
  },
  {
   "cell_type": "code",
   "execution_count": 46,
   "metadata": {
    "colab": {
     "base_uri": "https://localhost:8080/"
    },
    "id": "JYaGIgUV8DoE",
    "outputId": "ebb7ef30-3b49-4424-93f8-371f2c598576"
   },
   "outputs": [
    {
     "data": {
      "text/plain": [
       "[Row(_1='James', _2='Smith', _3='California'),\n",
       " Row(_1='Michael', _2='Rose', _3='New york'),\n",
       " Row(_1='Robert', _2='Williams', _3='California'),\n",
       " Row(_1='Maria', _2='Jones', _3='Florida')]"
      ]
     },
     "execution_count": 46,
     "metadata": {},
     "output_type": "execute_result"
    }
   ],
   "source": [
    "# Convert the RDD to a DataFrame\n",
    "result.toDF().collect()"
   ]
  },
  {
   "cell_type": "code",
   "execution_count": 47,
   "metadata": {
    "colab": {
     "base_uri": "https://localhost:8080/"
    },
    "id": "-27rFqwH8dOH",
    "outputId": "47722e90-af58-4fec-9de7-2b0e77ced2ff"
   },
   "outputs": [
    {
     "name": "stdout",
     "output_type": "stream",
     "text": [
      "+-------+--------+----------+\n",
      "|     _1|      _2|        _3|\n",
      "+-------+--------+----------+\n",
      "|  James|   Smith|California|\n",
      "|Michael|    Rose|  New york|\n",
      "| Robert|Williams|California|\n",
      "|  Maria|   Jones|   Florida|\n",
      "+-------+--------+----------+\n",
      "\n"
     ]
    }
   ],
   "source": [
    "result.toDF().show()"
   ]
  },
  {
   "cell_type": "code",
   "execution_count": 48,
   "metadata": {
    "id": "m4HAezki8wtU"
   },
   "outputs": [],
   "source": [
    "rdd_df=result.toDF(['first_name','last_name','state'])"
   ]
  },
  {
   "cell_type": "code",
   "execution_count": 49,
   "metadata": {
    "colab": {
     "base_uri": "https://localhost:8080/"
    },
    "id": "8P56RGQy9Si0",
    "outputId": "c2349fe3-9aa3-46e5-aaa4-93f7b65a6054"
   },
   "outputs": [
    {
     "data": {
      "text/plain": [
       "[Row(first_name='James', last_name='Smith', state='California'),\n",
       " Row(first_name='Michael', last_name='Rose', state='New york'),\n",
       " Row(first_name='Robert', last_name='Williams', state='California'),\n",
       " Row(first_name='Maria', last_name='Jones', state='Florida')]"
      ]
     },
     "execution_count": 49,
     "metadata": {},
     "output_type": "execute_result"
    }
   ],
   "source": [
    "rdd_df.collect()"
   ]
  },
  {
   "cell_type": "code",
   "execution_count": 50,
   "metadata": {
    "colab": {
     "base_uri": "https://localhost:8080/"
    },
    "id": "r3Ou8Iwy9T8d",
    "outputId": "aa100462-7166-401d-c231-c52072d20cc8"
   },
   "outputs": [
    {
     "name": "stdout",
     "output_type": "stream",
     "text": [
      "+----------+---------+----------+\n",
      "|first_name|last_name|     state|\n",
      "+----------+---------+----------+\n",
      "|     James|    Smith|California|\n",
      "|   Michael|     Rose|  New york|\n",
      "|    Robert| Williams|California|\n",
      "|     Maria|    Jones|   Florida|\n",
      "+----------+---------+----------+\n",
      "\n"
     ]
    }
   ],
   "source": [
    "rdd_df.show()"
   ]
  },
  {
   "cell_type": "code",
   "execution_count": 51,
   "metadata": {
    "colab": {
     "base_uri": "https://localhost:8080/"
    },
    "id": "TMYPIdFo9XAE",
    "outputId": "86c0a18d-ac42-4460-b4b5-a360cab9d902"
   },
   "outputs": [
    {
     "name": "stdout",
     "output_type": "stream",
     "text": [
      "root\n",
      " |-- first_name: string (nullable = true)\n",
      " |-- last_name: string (nullable = true)\n",
      " |-- state: string (nullable = true)\n",
      "\n"
     ]
    }
   ],
   "source": [
    "rdd_df.printSchema()"
   ]
  },
  {
   "cell_type": "code",
   "execution_count": 52,
   "metadata": {
    "colab": {
     "base_uri": "https://localhost:8080/"
    },
    "id": "oqBt51vz9tdE",
    "outputId": "04751c32-d670-49ec-a2e6-d395be6bd20e"
   },
   "outputs": [
    {
     "data": {
      "text/plain": [
       "[('first_name', 'string'), ('last_name', 'string'), ('state', 'string')]"
      ]
     },
     "execution_count": 52,
     "metadata": {},
     "output_type": "execute_result"
    }
   ],
   "source": [
    "rdd_df.dtypes"
   ]
  },
  {
   "cell_type": "code",
   "execution_count": 53,
   "metadata": {
    "colab": {
     "base_uri": "https://localhost:8080/"
    },
    "id": "rjDDuFG596BM",
    "outputId": "895994cb-1a8a-4e46-e01d-e0b4a7ef3228"
   },
   "outputs": [
    {
     "name": "stdout",
     "output_type": "stream",
     "text": [
      "<class 'pyspark.sql.dataframe.DataFrame'>\n"
     ]
    }
   ],
   "source": [
    "print(type(rdd_df))"
   ]
  },
  {
   "cell_type": "code",
   "execution_count": 56,
   "metadata": {
    "id": "OBK_tniX98bD"
   },
   "outputs": [],
   "source": [
    "ids=range(1,10)"
   ]
  },
  {
   "cell_type": "code",
   "execution_count": 57,
   "metadata": {
    "colab": {
     "base_uri": "https://localhost:8080/"
    },
    "id": "yKjj7r6z-FHz",
    "outputId": "6c20f1d8-a6a2-4834-9462-e774db43208b"
   },
   "outputs": [
    {
     "name": "stdout",
     "output_type": "stream",
     "text": [
      "+-----+\n",
      "|value|\n",
      "+-----+\n",
      "|    1|\n",
      "|    2|\n",
      "|    3|\n",
      "|    4|\n",
      "|    5|\n",
      "|    6|\n",
      "|    7|\n",
      "|    8|\n",
      "|    9|\n",
      "+-----+\n",
      "\n"
     ]
    }
   ],
   "source": [
    "spark.createDataFrame(ids,'int').show()"
   ]
  },
  {
   "cell_type": "code",
   "execution_count": 58,
   "metadata": {
    "id": "c9NFOA_i-XAj"
   },
   "outputs": [],
   "source": [
    "data = [\n",
    "    (10, \"Aarav\"),\n",
    "    (11, \"Vivaan\"),\n",
    "    (12, \"Aditya\"),\n",
    "    (13, \"Diya\"),\n",
    "    (14, \"Anaya\"),\n",
    "    (15, \"Ishaan\"),\n",
    "    (16, \"Meera\"),\n",
    "    (17, \"Rohan\"),\n",
    "    (18, \"Lakshmi\"),\n",
    "    (19, \"Neha\")\n",
    "]"
   ]
  },
  {
   "cell_type": "code",
   "execution_count": 59,
   "metadata": {
    "id": "hSU9nwvh-Zj7"
   },
   "outputs": [],
   "source": [
    "df=spark.createDataFrame(data)"
   ]
  },
  {
   "cell_type": "code",
   "execution_count": 60,
   "metadata": {
    "colab": {
     "base_uri": "https://localhost:8080/"
    },
    "id": "xVuCHsK5-btT",
    "outputId": "9bee9c8c-b138-449d-f618-3fbbca457f0b"
   },
   "outputs": [
    {
     "name": "stdout",
     "output_type": "stream",
     "text": [
      "+---+-------+\n",
      "| _1|     _2|\n",
      "+---+-------+\n",
      "| 10|  Aarav|\n",
      "| 11| Vivaan|\n",
      "| 12| Aditya|\n",
      "| 13|   Diya|\n",
      "| 14|  Anaya|\n",
      "| 15| Ishaan|\n",
      "| 16|  Meera|\n",
      "| 17|  Rohan|\n",
      "| 18|Lakshmi|\n",
      "| 19|   Neha|\n",
      "+---+-------+\n",
      "\n"
     ]
    }
   ],
   "source": [
    "df.show()"
   ]
  },
  {
   "cell_type": "code",
   "execution_count": 61,
   "metadata": {
    "colab": {
     "base_uri": "https://localhost:8080/"
    },
    "id": "v7VTkXxY-ouL",
    "outputId": "c3d2db2d-85f8-4b41-c600-e4de4277d4b7"
   },
   "outputs": [
    {
     "name": "stdout",
     "output_type": "stream",
     "text": [
      "root\n",
      " |-- _1: long (nullable = true)\n",
      " |-- _2: string (nullable = true)\n",
      "\n"
     ]
    }
   ],
   "source": [
    "df.printSchema()"
   ]
  },
  {
   "cell_type": "code",
   "execution_count": 62,
   "metadata": {
    "id": "v7t8DQxF-rBh"
   },
   "outputs": [],
   "source": [
    "df1=spark.createDataFrame(data,'id string , name string')"
   ]
  },
  {
   "cell_type": "code",
   "execution_count": 63,
   "metadata": {
    "colab": {
     "base_uri": "https://localhost:8080/"
    },
    "id": "JBp0Exqk-13D",
    "outputId": "2f0f8f35-3698-4e76-96ca-e7ba03131571"
   },
   "outputs": [
    {
     "name": "stdout",
     "output_type": "stream",
     "text": [
      "+---+-------+\n",
      "| id|   name|\n",
      "+---+-------+\n",
      "| 10|  Aarav|\n",
      "| 11| Vivaan|\n",
      "| 12| Aditya|\n",
      "| 13|   Diya|\n",
      "| 14|  Anaya|\n",
      "| 15| Ishaan|\n",
      "| 16|  Meera|\n",
      "| 17|  Rohan|\n",
      "| 18|Lakshmi|\n",
      "| 19|   Neha|\n",
      "+---+-------+\n",
      "\n"
     ]
    }
   ],
   "source": [
    "df1.show()"
   ]
  },
  {
   "cell_type": "code",
   "execution_count": 64,
   "metadata": {
    "colab": {
     "base_uri": "https://localhost:8080/"
    },
    "id": "LjmKAaCK_Ahy",
    "outputId": "5667d822-5e66-4fc9-c35a-9b9d0118b024"
   },
   "outputs": [
    {
     "name": "stdout",
     "output_type": "stream",
     "text": [
      "root\n",
      " |-- id: string (nullable = true)\n",
      " |-- name: string (nullable = true)\n",
      "\n"
     ]
    }
   ],
   "source": [
    "df1.printSchema()"
   ]
  },
  {
   "cell_type": "code",
   "execution_count": 65,
   "metadata": {
    "id": "RPkuq6mg_C7z"
   },
   "outputs": [],
   "source": [
    "data_dict=[\n",
    "    {'user_id': 10, 'name': 'Aarav'},\n",
    "    {'user_id': 11, 'name': 'Vivaan'},\n",
    "    {'user_id': 12, 'name': 'Aditya'},\n",
    "    {'user_id': 13, 'name': 'Diya'},\n",
    "    {'user_id': 14, 'name': 'Anaya'},\n",
    "    {'user_id': 15, 'name': 'Ishaan'},\n",
    "    {'user_id': 16, 'name': 'Meera'},\n",
    "    {'user_id': 17, 'name': 'Rohan'},\n",
    "    {'user_id': 18, 'name': 'Lakshmi'},\n",
    "    {'user_id': 19, 'name': 'Neha'}\n",
    "]"
   ]
  },
  {
   "cell_type": "code",
   "execution_count": 66,
   "metadata": {
    "colab": {
     "base_uri": "https://localhost:8080/"
    },
    "id": "wzgBY6Gk_MRi",
    "outputId": "cb3522dd-8b43-4cc3-cfd8-df8bb7ced69e"
   },
   "outputs": [
    {
     "data": {
      "text/plain": [
       "[dict_values([10, 'Aarav']),\n",
       " dict_values([11, 'Vivaan']),\n",
       " dict_values([12, 'Aditya']),\n",
       " dict_values([13, 'Diya']),\n",
       " dict_values([14, 'Anaya']),\n",
       " dict_values([15, 'Ishaan']),\n",
       " dict_values([16, 'Meera']),\n",
       " dict_values([17, 'Rohan']),\n",
       " dict_values([18, 'Lakshmi']),\n",
       " dict_values([19, 'Neha'])]"
      ]
     },
     "execution_count": 66,
     "metadata": {},
     "output_type": "execute_result"
    }
   ],
   "source": [
    "[i.values() for i in data_dict]"
   ]
  },
  {
   "cell_type": "code",
   "execution_count": 67,
   "metadata": {
    "colab": {
     "base_uri": "https://localhost:8080/"
    },
    "id": "QVk1Ku9J_Ply",
    "outputId": "52d0f6ac-c8b9-4a51-ea2d-39fe9d362c89"
   },
   "outputs": [
    {
     "name": "stdout",
     "output_type": "stream",
     "text": [
      "+-------+---------+\n",
      "|user_id|user_name|\n",
      "+-------+---------+\n",
      "|     10|    Aarav|\n",
      "|     11|   Vivaan|\n",
      "|     12|   Aditya|\n",
      "|     13|     Diya|\n",
      "|     14|    Anaya|\n",
      "|     15|   Ishaan|\n",
      "|     16|    Meera|\n",
      "|     17|    Rohan|\n",
      "|     18|  Lakshmi|\n",
      "|     19|     Neha|\n",
      "+-------+---------+\n",
      "\n"
     ]
    }
   ],
   "source": [
    "spark.createDataFrame(\n",
    "    [tuple(i.values()) for i in data_dict]\n",
    "    ,'user_id string,user_name string'\n",
    "    ).show()"
   ]
  },
  {
   "cell_type": "code",
   "execution_count": 68,
   "metadata": {
    "id": "pitZDxXC__XJ"
   },
   "outputs": [],
   "source": [
    "from pyspark.sql import Row"
   ]
  },
  {
   "cell_type": "code",
   "execution_count": 69,
   "metadata": {
    "colab": {
     "base_uri": "https://localhost:8080/"
    },
    "id": "c_f_Xgz5Am46",
    "outputId": "c8488ee3-3d5b-47ac-d4da-36da779efe0e"
   },
   "outputs": [
    {
     "data": {
      "text/plain": [
       "<Row((1, 2))>"
      ]
     },
     "execution_count": 69,
     "metadata": {},
     "output_type": "execute_result"
    }
   ],
   "source": [
    "Row((1,2))"
   ]
  },
  {
   "cell_type": "code",
   "execution_count": 70,
   "metadata": {
    "colab": {
     "base_uri": "https://localhost:8080/"
    },
    "id": "I_mV2-WiA63w",
    "outputId": "ac8938ff-ade1-4ffb-c7a7-8fba8f84c84a"
   },
   "outputs": [
    {
     "data": {
      "text/plain": [
       "<Row({'user_id': 15, 'name': 'Ishaan'})>"
      ]
     },
     "execution_count": 70,
     "metadata": {},
     "output_type": "execute_result"
    }
   ],
   "source": [
    "Row(data_dict[5])"
   ]
  },
  {
   "cell_type": "code",
   "execution_count": 71,
   "metadata": {
    "colab": {
     "base_uri": "https://localhost:8080/"
    },
    "id": "jyAlu9D-BIcJ",
    "outputId": "929b3e37-43c7-4796-ecaa-4c46f69cfc43"
   },
   "outputs": [
    {
     "data": {
      "text/plain": [
       "[<Row(10, 'Aarav')>,\n",
       " <Row(11, 'Vivaan')>,\n",
       " <Row(12, 'Aditya')>,\n",
       " <Row(13, 'Diya')>,\n",
       " <Row(14, 'Anaya')>,\n",
       " <Row(15, 'Ishaan')>,\n",
       " <Row(16, 'Meera')>,\n",
       " <Row(17, 'Rohan')>,\n",
       " <Row(18, 'Lakshmi')>,\n",
       " <Row(19, 'Neha')>]"
      ]
     },
     "execution_count": 71,
     "metadata": {},
     "output_type": "execute_result"
    }
   ],
   "source": [
    "[Row(*i.values()) for i in data_dict]"
   ]
  },
  {
   "cell_type": "code",
   "execution_count": 72,
   "metadata": {
    "colab": {
     "base_uri": "https://localhost:8080/"
    },
    "id": "_ksXrwvtBL8_",
    "outputId": "83dea457-0095-4fbd-e40a-c5f0acb58d70"
   },
   "outputs": [
    {
     "name": "stdout",
     "output_type": "stream",
     "text": [
      "+---+-------+\n",
      "| id|   name|\n",
      "+---+-------+\n",
      "| 10|  Aarav|\n",
      "| 11| Vivaan|\n",
      "| 12| Aditya|\n",
      "| 13|   Diya|\n",
      "| 14|  Anaya|\n",
      "| 15| Ishaan|\n",
      "| 16|  Meera|\n",
      "| 17|  Rohan|\n",
      "| 18|Lakshmi|\n",
      "| 19|   Neha|\n",
      "+---+-------+\n",
      "\n"
     ]
    }
   ],
   "source": [
    "spark.createDataFrame([Row(*i.values()) for i in data_dict],'id int , name string').show()"
   ]
  },
  {
   "cell_type": "code",
   "execution_count": 73,
   "metadata": {
    "colab": {
     "base_uri": "https://localhost:8080/"
    },
    "id": "PAKdGsOoBQ3I",
    "outputId": "c16d0ab4-9169-4ea5-e0e7-402983da80a5"
   },
   "outputs": [
    {
     "data": {
      "text/plain": [
       "[Row(user_id=10, name='Aarav'),\n",
       " Row(user_id=11, name='Vivaan'),\n",
       " Row(user_id=12, name='Aditya'),\n",
       " Row(user_id=13, name='Diya'),\n",
       " Row(user_id=14, name='Anaya'),\n",
       " Row(user_id=15, name='Ishaan'),\n",
       " Row(user_id=16, name='Meera'),\n",
       " Row(user_id=17, name='Rohan'),\n",
       " Row(user_id=18, name='Lakshmi'),\n",
       " Row(user_id=19, name='Neha')]"
      ]
     },
     "execution_count": 73,
     "metadata": {},
     "output_type": "execute_result"
    }
   ],
   "source": [
    "[Row(**i) for i in data_dict]"
   ]
  },
  {
   "cell_type": "code",
   "execution_count": 74,
   "metadata": {
    "colab": {
     "base_uri": "https://localhost:8080/"
    },
    "id": "s4JBwO-1B58A",
    "outputId": "88044eb5-cb24-475b-c2d9-f6341337769c"
   },
   "outputs": [
    {
     "name": "stdout",
     "output_type": "stream",
     "text": [
      "+---+-------+\n",
      "| id|   name|\n",
      "+---+-------+\n",
      "| 10|  Aarav|\n",
      "| 11| Vivaan|\n",
      "| 12| Aditya|\n",
      "| 13|   Diya|\n",
      "| 14|  Anaya|\n",
      "| 15| Ishaan|\n",
      "| 16|  Meera|\n",
      "| 17|  Rohan|\n",
      "| 18|Lakshmi|\n",
      "| 19|   Neha|\n",
      "+---+-------+\n",
      "\n"
     ]
    }
   ],
   "source": [
    "spark.createDataFrame([Row(*i.values()) for i in data_dict],'id int , name string').show()"
   ]
  }
 ],
 "metadata": {
  "colab": {
   "provenance": []
  },
  "kernelspec": {
   "display_name": "Python 3 (ipykernel)",
   "language": "python",
   "name": "python3"
  },
  "language_info": {
   "codemirror_mode": {
    "name": "ipython",
    "version": 3
   },
   "file_extension": ".py",
   "mimetype": "text/x-python",
   "name": "python",
   "nbconvert_exporter": "python",
   "pygments_lexer": "ipython3",
   "version": "3.12.7"
  }
 },
 "nbformat": 4,
 "nbformat_minor": 4
}
